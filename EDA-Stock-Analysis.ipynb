{
 "cells": [
  {
   "cell_type": "markdown",
   "metadata": {},
   "source": [
    "<img src=\"https://shwetkm.github.io/upxlogo.png\"></img>\n",
    "\n",
    "# Python Advanced - Data Science Foundation\n",
    "\n",
    "**SET THE WORKING DIRECTORY SO THAT WE DO NOT HAVE TO THINK ABOUT PATH PROBLEMS**\n",
    "\n",
    "Please ensure all your folder names <font color='red'><b>do not have a space & use forward slash (/)</b></font>"
   ]
  },
  {
   "cell_type": "code",
   "execution_count": 22,
   "metadata": {
    "slideshow": {
     "slide_type": "slide"
    }
   },
   "outputs": [],
   "source": [
    "your_local_path=\"C:\\\\Users\\\\Admin736\\\\Desktop\\\\UpxDSC\\\\Exclusively-Programming\\\\Data-Analytics-with-Python\\\\Datasets\\\\\""
   ]
  },
  {
   "cell_type": "code",
   "execution_count": 23,
   "metadata": {},
   "outputs": [],
   "source": [
    "from numpy import array"
   ]
  },
  {
   "cell_type": "markdown",
   "metadata": {},
   "source": [
    "Let us look at the example of percent change calculation where we pull company stock price data from Yahoo Finance website and apply percent change method on it. <b>Pandas</b> provides a number of <b>web interfaces</b> such as <i>Yahoo Finance, Google Finance, St. Louis FED, Ken French data library, World Bank</i>. Here, we look at example of Yahoo Finance. Later, we will look at other options. To extract data from these websites, you need to use <b>pandas.io.data</b> "
   ]
  },
  {
   "cell_type": "code",
   "execution_count": null,
   "metadata": {},
   "outputs": [],
   "source": [
    "# conda install -c anaconda pandas-datareader=0.4.0\n",
    "import pandas_datareader as pdr\n",
    "pdr.get_data_fred('GS10')\n",
    "#from pandas_datareader import data, wb\n",
    "#import pandas_datareader.data as web\n",
    "import datetime\n",
    "start = datetime.datetime(2016, 5, 1)\n",
    "end = datetime.datetime(2017, 10, 1)\n",
    "from pandas_datareader import data, wb"
   ]
  },
  {
   "cell_type": "code",
   "execution_count": 24,
   "metadata": {},
   "outputs": [
    {
     "data": {
      "text/plain": [
       "'0.23.3'"
      ]
     },
     "execution_count": 24,
     "metadata": {},
     "output_type": "execute_result"
    }
   ],
   "source": [
    "import pandas as pd\n",
    "pandas.__version__"
   ]
  },
  {
   "cell_type": "code",
   "execution_count": null,
   "metadata": {},
   "outputs": [],
   "source": [
    "aapl = web.DataReader('AAPL','google', start, end)\n",
    "\n",
    "\n",
    "aapl=aapl.ix['2016-09-01':'2017-10-01']\n",
    "#aapl.to_csv('apple.csv')\n",
    "\n",
    "google = web.DataReader('GOOGL','google', start, end)\n",
    "google=google.ix['2016-09-01':'2017-10-01']\n",
    "#google.to_csv('google.csv')\n",
    "microsoft = web.DataReader('MSFT','google', start, end)\n",
    "microsoft = microsoft.ix['2016-09-01':'2017-10-01']\n",
    "#microsoft.to_csv('microsoft.csv')\n",
    "ibm = web.DataReader('IBM','google', start, end)\n",
    "ibm = ibm.ix['2016-09-01':'2017-10-01']\n",
    "#ibm.to_csv('ibm.csv')\n"
   ]
  },
  {
   "cell_type": "code",
   "execution_count": 37,
   "metadata": {},
   "outputs": [],
   "source": [
    "google = pd.read_csv(your_local_path + 'google.csv', header = 0, index_col = 'Date')\n",
    "aapl = pd.read_csv(your_local_path + 'apple.csv', header = 0, index_col = 'Date')\n",
    "microsoft = pd.read_csv(your_local_path + 'microsoft.csv', header = 0, index_col = 'Date')\n",
    "ibm = pd.read_csv(your_local_path + 'ibm.csv', header = 0, index_col = 'Date')"
   ]
  },
  {
   "cell_type": "code",
   "execution_count": 38,
   "metadata": {},
   "outputs": [
    {
     "data": {
      "text/html": [
       "<div>\n",
       "<style scoped>\n",
       "    .dataframe tbody tr th:only-of-type {\n",
       "        vertical-align: middle;\n",
       "    }\n",
       "\n",
       "    .dataframe tbody tr th {\n",
       "        vertical-align: top;\n",
       "    }\n",
       "\n",
       "    .dataframe thead th {\n",
       "        text-align: right;\n",
       "    }\n",
       "</style>\n",
       "<table border=\"1\" class=\"dataframe\">\n",
       "  <thead>\n",
       "    <tr style=\"text-align: right;\">\n",
       "      <th></th>\n",
       "      <th>Open</th>\n",
       "      <th>High</th>\n",
       "      <th>Low</th>\n",
       "      <th>Close</th>\n",
       "      <th>Adj Close</th>\n",
       "      <th>Volume</th>\n",
       "    </tr>\n",
       "    <tr>\n",
       "      <th>Date</th>\n",
       "      <th></th>\n",
       "      <th></th>\n",
       "      <th></th>\n",
       "      <th></th>\n",
       "      <th></th>\n",
       "      <th></th>\n",
       "    </tr>\n",
       "  </thead>\n",
       "  <tbody>\n",
       "    <tr>\n",
       "      <th>2016-08-31</th>\n",
       "      <td>789.599976</td>\n",
       "      <td>791.570007</td>\n",
       "      <td>787.200012</td>\n",
       "      <td>789.849976</td>\n",
       "      <td>789.849976</td>\n",
       "      <td>1071400</td>\n",
       "    </tr>\n",
       "    <tr>\n",
       "      <th>2016-09-01</th>\n",
       "      <td>791.979980</td>\n",
       "      <td>792.890015</td>\n",
       "      <td>786.330017</td>\n",
       "      <td>791.400024</td>\n",
       "      <td>791.400024</td>\n",
       "      <td>1303500</td>\n",
       "    </tr>\n",
       "  </tbody>\n",
       "</table>\n",
       "</div>"
      ],
      "text/plain": [
       "                  Open        High         Low       Close   Adj Close  \\\n",
       "Date                                                                     \n",
       "2016-08-31  789.599976  791.570007  787.200012  789.849976  789.849976   \n",
       "2016-09-01  791.979980  792.890015  786.330017  791.400024  791.400024   \n",
       "\n",
       "             Volume  \n",
       "Date                 \n",
       "2016-08-31  1071400  \n",
       "2016-09-01  1303500  "
      ]
     },
     "execution_count": 38,
     "metadata": {},
     "output_type": "execute_result"
    }
   ],
   "source": [
    "google.head(2)"
   ]
  },
  {
   "cell_type": "code",
   "execution_count": 39,
   "metadata": {},
   "outputs": [
    {
     "data": {
      "text/html": [
       "<div>\n",
       "<style scoped>\n",
       "    .dataframe tbody tr th:only-of-type {\n",
       "        vertical-align: middle;\n",
       "    }\n",
       "\n",
       "    .dataframe tbody tr th {\n",
       "        vertical-align: top;\n",
       "    }\n",
       "\n",
       "    .dataframe thead th {\n",
       "        text-align: right;\n",
       "    }\n",
       "</style>\n",
       "<table border=\"1\" class=\"dataframe\">\n",
       "  <thead>\n",
       "    <tr style=\"text-align: right;\">\n",
       "      <th></th>\n",
       "      <th>Open</th>\n",
       "      <th>High</th>\n",
       "      <th>Low</th>\n",
       "      <th>Close</th>\n",
       "      <th>Adj Close</th>\n",
       "      <th>Volume</th>\n",
       "    </tr>\n",
       "    <tr>\n",
       "      <th>Date</th>\n",
       "      <th></th>\n",
       "      <th></th>\n",
       "      <th></th>\n",
       "      <th></th>\n",
       "      <th></th>\n",
       "      <th></th>\n",
       "    </tr>\n",
       "  </thead>\n",
       "  <tbody>\n",
       "    <tr>\n",
       "      <th>2016-08-31</th>\n",
       "      <td>159.660004</td>\n",
       "      <td>159.660004</td>\n",
       "      <td>158.259995</td>\n",
       "      <td>158.880005</td>\n",
       "      <td>150.094833</td>\n",
       "      <td>2323600</td>\n",
       "    </tr>\n",
       "    <tr>\n",
       "      <th>2016-09-01</th>\n",
       "      <td>158.320007</td>\n",
       "      <td>159.619995</td>\n",
       "      <td>158.100006</td>\n",
       "      <td>159.539993</td>\n",
       "      <td>150.718338</td>\n",
       "      <td>2358400</td>\n",
       "    </tr>\n",
       "  </tbody>\n",
       "</table>\n",
       "</div>"
      ],
      "text/plain": [
       "                  Open        High         Low       Close   Adj Close  \\\n",
       "Date                                                                     \n",
       "2016-08-31  159.660004  159.660004  158.259995  158.880005  150.094833   \n",
       "2016-09-01  158.320007  159.619995  158.100006  159.539993  150.718338   \n",
       "\n",
       "             Volume  \n",
       "Date                 \n",
       "2016-08-31  2323600  \n",
       "2016-09-01  2358400  "
      ]
     },
     "execution_count": 39,
     "metadata": {},
     "output_type": "execute_result"
    }
   ],
   "source": [
    "ibm.head(2)"
   ]
  },
  {
   "cell_type": "code",
   "execution_count": 40,
   "metadata": {},
   "outputs": [
    {
     "data": {
      "text/html": [
       "<div>\n",
       "<style scoped>\n",
       "    .dataframe tbody tr th:only-of-type {\n",
       "        vertical-align: middle;\n",
       "    }\n",
       "\n",
       "    .dataframe tbody tr th {\n",
       "        vertical-align: top;\n",
       "    }\n",
       "\n",
       "    .dataframe thead th {\n",
       "        text-align: right;\n",
       "    }\n",
       "</style>\n",
       "<table border=\"1\" class=\"dataframe\">\n",
       "  <thead>\n",
       "    <tr style=\"text-align: right;\">\n",
       "      <th></th>\n",
       "      <th>Open</th>\n",
       "      <th>High</th>\n",
       "      <th>Low</th>\n",
       "      <th>Close</th>\n",
       "      <th>Adj Close</th>\n",
       "      <th>Volume</th>\n",
       "    </tr>\n",
       "    <tr>\n",
       "      <th>Date</th>\n",
       "      <th></th>\n",
       "      <th></th>\n",
       "      <th></th>\n",
       "      <th></th>\n",
       "      <th></th>\n",
       "      <th></th>\n",
       "    </tr>\n",
       "  </thead>\n",
       "  <tbody>\n",
       "    <tr>\n",
       "      <th>2016-08-31</th>\n",
       "      <td>57.650002</td>\n",
       "      <td>57.799999</td>\n",
       "      <td>57.299999</td>\n",
       "      <td>57.459999</td>\n",
       "      <td>55.566841</td>\n",
       "      <td>20860300</td>\n",
       "    </tr>\n",
       "    <tr>\n",
       "      <th>2016-09-01</th>\n",
       "      <td>57.009998</td>\n",
       "      <td>57.820000</td>\n",
       "      <td>57.009998</td>\n",
       "      <td>57.590000</td>\n",
       "      <td>55.692554</td>\n",
       "      <td>26075400</td>\n",
       "    </tr>\n",
       "  </tbody>\n",
       "</table>\n",
       "</div>"
      ],
      "text/plain": [
       "                 Open       High        Low      Close  Adj Close    Volume\n",
       "Date                                                                       \n",
       "2016-08-31  57.650002  57.799999  57.299999  57.459999  55.566841  20860300\n",
       "2016-09-01  57.009998  57.820000  57.009998  57.590000  55.692554  26075400"
      ]
     },
     "execution_count": 40,
     "metadata": {},
     "output_type": "execute_result"
    }
   ],
   "source": [
    "microsoft.head(2)"
   ]
  },
  {
   "cell_type": "code",
   "execution_count": 41,
   "metadata": {},
   "outputs": [
    {
     "data": {
      "text/html": [
       "<div>\n",
       "<style scoped>\n",
       "    .dataframe tbody tr th:only-of-type {\n",
       "        vertical-align: middle;\n",
       "    }\n",
       "\n",
       "    .dataframe tbody tr th {\n",
       "        vertical-align: top;\n",
       "    }\n",
       "\n",
       "    .dataframe thead th {\n",
       "        text-align: right;\n",
       "    }\n",
       "</style>\n",
       "<table border=\"1\" class=\"dataframe\">\n",
       "  <thead>\n",
       "    <tr style=\"text-align: right;\">\n",
       "      <th></th>\n",
       "      <th>Open</th>\n",
       "      <th>High</th>\n",
       "      <th>Low</th>\n",
       "      <th>Close</th>\n",
       "      <th>Adj Close</th>\n",
       "      <th>Volume</th>\n",
       "    </tr>\n",
       "    <tr>\n",
       "      <th>Date</th>\n",
       "      <th></th>\n",
       "      <th></th>\n",
       "      <th></th>\n",
       "      <th></th>\n",
       "      <th></th>\n",
       "      <th></th>\n",
       "    </tr>\n",
       "  </thead>\n",
       "  <tbody>\n",
       "    <tr>\n",
       "      <th>2016-08-31</th>\n",
       "      <td>105.660004</td>\n",
       "      <td>106.570000</td>\n",
       "      <td>105.639999</td>\n",
       "      <td>106.099998</td>\n",
       "      <td>103.465584</td>\n",
       "      <td>29662400</td>\n",
       "    </tr>\n",
       "    <tr>\n",
       "      <th>2016-09-01</th>\n",
       "      <td>106.139999</td>\n",
       "      <td>106.800003</td>\n",
       "      <td>105.620003</td>\n",
       "      <td>106.730003</td>\n",
       "      <td>104.079956</td>\n",
       "      <td>26701500</td>\n",
       "    </tr>\n",
       "  </tbody>\n",
       "</table>\n",
       "</div>"
      ],
      "text/plain": [
       "                  Open        High         Low       Close   Adj Close  \\\n",
       "Date                                                                     \n",
       "2016-08-31  105.660004  106.570000  105.639999  106.099998  103.465584   \n",
       "2016-09-01  106.139999  106.800003  105.620003  106.730003  104.079956   \n",
       "\n",
       "              Volume  \n",
       "Date                  \n",
       "2016-08-31  29662400  \n",
       "2016-09-01  26701500  "
      ]
     },
     "execution_count": 41,
     "metadata": {},
     "output_type": "execute_result"
    }
   ],
   "source": [
    "aapl.head(2)"
   ]
  },
  {
   "cell_type": "code",
   "execution_count": 53,
   "metadata": {},
   "outputs": [
    {
     "data": {
      "text/plain": [
       "Date\n",
       "2016-08-31           NaN\n",
       "2016-09-01           NaN\n",
       "2016-09-02           NaN\n",
       "2016-09-06           NaN\n",
       "2016-09-07    30482220.0\n",
       "2016-09-08    35150140.0\n",
       "2016-09-09    39121240.0\n",
       "2016-09-12    42819300.0\n",
       "2016-09-13    49878460.0\n",
       "2016-09-14    63583340.0\n",
       "2016-09-15    70979660.0\n",
       "2016-09-16    77645640.0\n",
       "2016-09-19    77991680.0\n",
       "2016-09-20    72459300.0\n",
       "2016-09-21    57482200.0\n",
       "2016-09-22    45700280.0\n",
       "2016-09-23    40219140.0\n",
       "2016-09-26    36788420.0\n",
       "2016-09-27    34807040.0\n",
       "2016-09-28    33534620.0\n",
       "2016-09-29    34497220.0\n",
       "2016-09-30    31276800.0\n",
       "2016-10-03    29643280.0\n",
       "2016-10-04    30669160.0\n",
       "2016-10-05    29031560.0\n",
       "2016-10-06    27610020.0\n",
       "2016-10-07    25205880.0\n",
       "2016-10-10    28112720.0\n",
       "2016-10-11    34973560.0\n",
       "2016-10-12    38200300.0\n",
       "                 ...    \n",
       "2017-08-18    26925700.0\n",
       "2017-08-21    27774860.0\n",
       "2017-08-22    26202680.0\n",
       "2017-08-23    24548180.0\n",
       "2017-08-24    22923840.0\n",
       "2017-08-25    22534240.0\n",
       "2017-08-28    22453740.0\n",
       "2017-08-29    24036200.0\n",
       "2017-08-30    25610300.0\n",
       "2017-08-31    27003540.0\n",
       "2017-09-01    25225740.0\n",
       "2017-09-05    25926240.0\n",
       "2017-09-06    24353200.0\n",
       "2017-09-07    23284980.0\n",
       "2017-09-08    23650260.0\n",
       "2017-09-11    26549220.0\n",
       "2017-09-12    34998320.0\n",
       "2017-09-13    39649460.0\n",
       "2017-09-14    40015900.0\n",
       "2017-09-15    44116520.0\n",
       "2017-09-18    43553220.0\n",
       "2017-09-19    33372540.0\n",
       "2017-09-20    34981340.0\n",
       "2017-09-21    37731540.0\n",
       "2017-09-22    37237700.0\n",
       "2017-09-25    40461280.0\n",
       "2017-09-26    43631160.0\n",
       "2017-09-27    38141720.0\n",
       "2017-09-28    35040480.0\n",
       "2017-09-29    30971360.0\n",
       "Name: Volume, Length: 273, dtype: float64"
      ]
     },
     "execution_count": 53,
     "metadata": {},
     "output_type": "execute_result"
    }
   ],
   "source": [
    "# Compute 5 days moving average\n",
    "import pandas as pd\n",
    "mov_avg = aapl['Volume'].rolling(5).mean()\n",
    "mov_avg\n"
   ]
  },
  {
   "cell_type": "code",
   "execution_count": 54,
   "metadata": {},
   "outputs": [
    {
     "data": {
      "text/html": [
       "<div>\n",
       "<style scoped>\n",
       "    .dataframe tbody tr th:only-of-type {\n",
       "        vertical-align: middle;\n",
       "    }\n",
       "\n",
       "    .dataframe tbody tr th {\n",
       "        vertical-align: top;\n",
       "    }\n",
       "\n",
       "    .dataframe thead th {\n",
       "        text-align: right;\n",
       "    }\n",
       "</style>\n",
       "<table border=\"1\" class=\"dataframe\">\n",
       "  <thead>\n",
       "    <tr style=\"text-align: right;\">\n",
       "      <th></th>\n",
       "      <th>Open</th>\n",
       "      <th>High</th>\n",
       "      <th>Low</th>\n",
       "      <th>Close</th>\n",
       "      <th>Adj Close</th>\n",
       "      <th>Volume</th>\n",
       "      <th>lag1</th>\n",
       "      <th>lead1</th>\n",
       "    </tr>\n",
       "    <tr>\n",
       "      <th>Date</th>\n",
       "      <th></th>\n",
       "      <th></th>\n",
       "      <th></th>\n",
       "      <th></th>\n",
       "      <th></th>\n",
       "      <th></th>\n",
       "      <th></th>\n",
       "      <th></th>\n",
       "    </tr>\n",
       "  </thead>\n",
       "  <tbody>\n",
       "    <tr>\n",
       "      <th>2016-08-31</th>\n",
       "      <td>105.660004</td>\n",
       "      <td>106.570000</td>\n",
       "      <td>105.639999</td>\n",
       "      <td>106.099998</td>\n",
       "      <td>103.465584</td>\n",
       "      <td>29662400</td>\n",
       "      <td>NaN</td>\n",
       "      <td>106.730003</td>\n",
       "    </tr>\n",
       "    <tr>\n",
       "      <th>2016-09-01</th>\n",
       "      <td>106.139999</td>\n",
       "      <td>106.800003</td>\n",
       "      <td>105.620003</td>\n",
       "      <td>106.730003</td>\n",
       "      <td>104.079956</td>\n",
       "      <td>26701500</td>\n",
       "      <td>106.099998</td>\n",
       "      <td>107.730003</td>\n",
       "    </tr>\n",
       "    <tr>\n",
       "      <th>2016-09-02</th>\n",
       "      <td>107.699997</td>\n",
       "      <td>108.000000</td>\n",
       "      <td>106.820000</td>\n",
       "      <td>107.730003</td>\n",
       "      <td>105.055122</td>\n",
       "      <td>26802500</td>\n",
       "      <td>106.730003</td>\n",
       "      <td>107.699997</td>\n",
       "    </tr>\n",
       "    <tr>\n",
       "      <th>2016-09-06</th>\n",
       "      <td>107.900002</td>\n",
       "      <td>108.300003</td>\n",
       "      <td>107.510002</td>\n",
       "      <td>107.699997</td>\n",
       "      <td>105.025856</td>\n",
       "      <td>26880400</td>\n",
       "      <td>107.730003</td>\n",
       "      <td>108.360001</td>\n",
       "    </tr>\n",
       "    <tr>\n",
       "      <th>2016-09-07</th>\n",
       "      <td>107.830002</td>\n",
       "      <td>108.760002</td>\n",
       "      <td>107.070000</td>\n",
       "      <td>108.360001</td>\n",
       "      <td>105.669479</td>\n",
       "      <td>42364300</td>\n",
       "      <td>107.699997</td>\n",
       "      <td>105.519997</td>\n",
       "    </tr>\n",
       "  </tbody>\n",
       "</table>\n",
       "</div>"
      ],
      "text/plain": [
       "                  Open        High         Low       Close   Adj Close  \\\n",
       "Date                                                                     \n",
       "2016-08-31  105.660004  106.570000  105.639999  106.099998  103.465584   \n",
       "2016-09-01  106.139999  106.800003  105.620003  106.730003  104.079956   \n",
       "2016-09-02  107.699997  108.000000  106.820000  107.730003  105.055122   \n",
       "2016-09-06  107.900002  108.300003  107.510002  107.699997  105.025856   \n",
       "2016-09-07  107.830002  108.760002  107.070000  108.360001  105.669479   \n",
       "\n",
       "              Volume        lag1       lead1  \n",
       "Date                                          \n",
       "2016-08-31  29662400         NaN  106.730003  \n",
       "2016-09-01  26701500  106.099998  107.730003  \n",
       "2016-09-02  26802500  106.730003  107.699997  \n",
       "2016-09-06  26880400  107.730003  108.360001  \n",
       "2016-09-07  42364300  107.699997  105.519997  "
      ]
     },
     "execution_count": 54,
     "metadata": {},
     "output_type": "execute_result"
    }
   ],
   "source": [
    "# Compute lead and lag\n",
    "aapl\n",
    "aapl['lag1'] = aapl.Close.shift(1)\n",
    "aapl['lead1'] = aapl.Close.shift(-1)\n",
    "aapl.head()"
   ]
  },
  {
   "cell_type": "code",
   "execution_count": 14,
   "metadata": {},
   "outputs": [
    {
     "data": {
      "text/html": [
       "<div>\n",
       "<style scoped>\n",
       "    .dataframe tbody tr th:only-of-type {\n",
       "        vertical-align: middle;\n",
       "    }\n",
       "\n",
       "    .dataframe tbody tr th {\n",
       "        vertical-align: top;\n",
       "    }\n",
       "\n",
       "    .dataframe thead th {\n",
       "        text-align: right;\n",
       "    }\n",
       "</style>\n",
       "<table border=\"1\" class=\"dataframe\">\n",
       "  <thead>\n",
       "    <tr style=\"text-align: right;\">\n",
       "      <th></th>\n",
       "      <th>Open</th>\n",
       "      <th>High</th>\n",
       "      <th>Low</th>\n",
       "      <th>Close</th>\n",
       "      <th>Volume</th>\n",
       "      <th>lag1</th>\n",
       "      <th>lead1</th>\n",
       "    </tr>\n",
       "    <tr>\n",
       "      <th>Date</th>\n",
       "      <th></th>\n",
       "      <th></th>\n",
       "      <th></th>\n",
       "      <th></th>\n",
       "      <th></th>\n",
       "      <th></th>\n",
       "      <th></th>\n",
       "    </tr>\n",
       "  </thead>\n",
       "  <tbody>\n",
       "    <tr>\n",
       "      <th>2016-09-01</th>\n",
       "      <td>NaN</td>\n",
       "      <td>NaN</td>\n",
       "      <td>NaN</td>\n",
       "      <td>NaN</td>\n",
       "      <td>NaN</td>\n",
       "      <td>NaN</td>\n",
       "      <td>NaN</td>\n",
       "    </tr>\n",
       "    <tr>\n",
       "      <th>2016-09-02</th>\n",
       "      <td>1.469757</td>\n",
       "      <td>1.123596</td>\n",
       "      <td>1.136148</td>\n",
       "      <td>0.936944</td>\n",
       "      <td>-1.373199</td>\n",
       "      <td>NaN</td>\n",
       "      <td>-0.027847</td>\n",
       "    </tr>\n",
       "    <tr>\n",
       "      <th>2016-09-06</th>\n",
       "      <td>0.185701</td>\n",
       "      <td>0.277778</td>\n",
       "      <td>0.645946</td>\n",
       "      <td>-0.027847</td>\n",
       "      <td>2.071524</td>\n",
       "      <td>0.936944</td>\n",
       "      <td>0.612813</td>\n",
       "    </tr>\n",
       "    <tr>\n",
       "      <th>2016-09-07</th>\n",
       "      <td>-0.064875</td>\n",
       "      <td>0.424746</td>\n",
       "      <td>-0.409264</td>\n",
       "      <td>0.612813</td>\n",
       "      <td>57.603094</td>\n",
       "      <td>-0.027847</td>\n",
       "      <td>-2.620893</td>\n",
       "    </tr>\n",
       "    <tr>\n",
       "      <th>2016-09-08</th>\n",
       "      <td>-0.537884</td>\n",
       "      <td>-1.369989</td>\n",
       "      <td>-1.709162</td>\n",
       "      <td>-2.620893</td>\n",
       "      <td>25.110036</td>\n",
       "      <td>0.612813</td>\n",
       "      <td>-2.264973</td>\n",
       "    </tr>\n",
       "    <tr>\n",
       "      <th>2016-09-09</th>\n",
       "      <td>-2.433566</td>\n",
       "      <td>-1.444952</td>\n",
       "      <td>-2.004941</td>\n",
       "      <td>-2.264973</td>\n",
       "      <td>-12.159992</td>\n",
       "      <td>-2.620893</td>\n",
       "      <td>2.239891</td>\n",
       "    </tr>\n",
       "    <tr>\n",
       "      <th>2016-09-12</th>\n",
       "      <td>-1.901758</td>\n",
       "      <td>0.000000</td>\n",
       "      <td>-0.581790</td>\n",
       "      <td>2.239891</td>\n",
       "      <td>-2.715412</td>\n",
       "      <td>-2.264973</td>\n",
       "      <td>2.380501</td>\n",
       "    </tr>\n",
       "    <tr>\n",
       "      <th>2016-09-13</th>\n",
       "      <td>4.734535</td>\n",
       "      <td>2.903897</td>\n",
       "      <td>4.593777</td>\n",
       "      <td>2.380501</td>\n",
       "      <td>37.276192</td>\n",
       "      <td>2.239891</td>\n",
       "      <td>3.538675</td>\n",
       "    </tr>\n",
       "    <tr>\n",
       "      <th>2016-09-14</th>\n",
       "      <td>1.134778</td>\n",
       "      <td>3.897417</td>\n",
       "      <td>1.268184</td>\n",
       "      <td>3.538675</td>\n",
       "      <td>80.680608</td>\n",
       "      <td>2.380501</td>\n",
       "      <td>3.399839</td>\n",
       "    </tr>\n",
       "    <tr>\n",
       "      <th>2016-09-15</th>\n",
       "      <td>4.718109</td>\n",
       "      <td>2.388746</td>\n",
       "      <td>4.502762</td>\n",
       "      <td>3.399839</td>\n",
       "      <td>-19.340466</td>\n",
       "      <td>3.538675</td>\n",
       "      <td>-0.562430</td>\n",
       "    </tr>\n",
       "    <tr>\n",
       "      <th>2016-09-16</th>\n",
       "      <td>1.106622</td>\n",
       "      <td>0.345632</td>\n",
       "      <td>0.484624</td>\n",
       "      <td>-0.562430</td>\n",
       "      <td>-11.837424</td>\n",
       "      <td>3.399839</td>\n",
       "      <td>-1.166029</td>\n",
       "    </tr>\n",
       "    <tr>\n",
       "      <th>2016-09-19</th>\n",
       "      <td>0.060806</td>\n",
       "      <td>0.043055</td>\n",
       "      <td>-0.692739</td>\n",
       "      <td>-1.166029</td>\n",
       "      <td>-41.137984</td>\n",
       "      <td>-0.562430</td>\n",
       "      <td>-0.008804</td>\n",
       "    </tr>\n",
       "    <tr>\n",
       "      <th>2016-09-20</th>\n",
       "      <td>-1.857800</td>\n",
       "      <td>-1.773111</td>\n",
       "      <td>-0.653422</td>\n",
       "      <td>-0.008804</td>\n",
       "      <td>-26.601375</td>\n",
       "      <td>-1.166029</td>\n",
       "      <td>-0.017610</td>\n",
       "    </tr>\n",
       "    <tr>\n",
       "      <th>2016-09-21</th>\n",
       "      <td>0.707651</td>\n",
       "      <td>-0.113915</td>\n",
       "      <td>-0.062217</td>\n",
       "      <td>-0.017610</td>\n",
       "      <td>4.313914</td>\n",
       "      <td>-0.008804</td>\n",
       "      <td>0.942316</td>\n",
       "    </tr>\n",
       "    <tr>\n",
       "      <th>2016-09-22</th>\n",
       "      <td>0.439174</td>\n",
       "      <td>0.833406</td>\n",
       "      <td>1.387407</td>\n",
       "      <td>0.942316</td>\n",
       "      <td>-13.691014</td>\n",
       "      <td>-0.017610</td>\n",
       "      <td>-1.666376</td>\n",
       "    </tr>\n",
       "    <tr>\n",
       "      <th>2016-09-23</th>\n",
       "      <td>0.061216</td>\n",
       "      <td>-0.130503</td>\n",
       "      <td>-2.149123</td>\n",
       "      <td>-1.666376</td>\n",
       "      <td>68.890964</td>\n",
       "      <td>0.942316</td>\n",
       "      <td>0.150830</td>\n",
       "    </tr>\n",
       "    <tr>\n",
       "      <th>2016-09-26</th>\n",
       "      <td>-2.429645</td>\n",
       "      <td>-1.219618</td>\n",
       "      <td>0.000000</td>\n",
       "      <td>0.150830</td>\n",
       "      <td>-43.085391</td>\n",
       "      <td>-1.666376</td>\n",
       "      <td>0.186038</td>\n",
       "    </tr>\n",
       "    <tr>\n",
       "      <th>2016-09-27</th>\n",
       "      <td>1.218201</td>\n",
       "      <td>-0.185202</td>\n",
       "      <td>0.708203</td>\n",
       "      <td>0.186038</td>\n",
       "      <td>-17.616767</td>\n",
       "      <td>0.150830</td>\n",
       "      <td>0.760456</td>\n",
       "    </tr>\n",
       "    <tr>\n",
       "      <th>2016-09-28</th>\n",
       "      <td>0.610619</td>\n",
       "      <td>1.289981</td>\n",
       "      <td>0.970269</td>\n",
       "      <td>0.760456</td>\n",
       "      <td>20.455922</td>\n",
       "      <td>0.186038</td>\n",
       "      <td>-1.553313</td>\n",
       "    </tr>\n",
       "    <tr>\n",
       "      <th>2016-09-29</th>\n",
       "      <td>-0.466180</td>\n",
       "      <td>-0.732729</td>\n",
       "      <td>-1.437010</td>\n",
       "      <td>-1.553313</td>\n",
       "      <td>21.071783</td>\n",
       "      <td>0.760456</td>\n",
       "      <td>0.775539</td>\n",
       "    </tr>\n",
       "    <tr>\n",
       "      <th>2016-09-30</th>\n",
       "      <td>-0.618593</td>\n",
       "      <td>-0.377856</td>\n",
       "      <td>0.000000</td>\n",
       "      <td>0.775539</td>\n",
       "      <td>1.371294</td>\n",
       "      <td>-1.553313</td>\n",
       "      <td>-0.468819</td>\n",
       "    </tr>\n",
       "    <tr>\n",
       "      <th>2016-10-03</th>\n",
       "      <td>0.222301</td>\n",
       "      <td>-0.282262</td>\n",
       "      <td>0.429338</td>\n",
       "      <td>-0.468819</td>\n",
       "      <td>-40.345538</td>\n",
       "      <td>0.775539</td>\n",
       "      <td>0.426591</td>\n",
       "    </tr>\n",
       "    <tr>\n",
       "      <th>2016-10-04</th>\n",
       "      <td>0.310531</td>\n",
       "      <td>1.114551</td>\n",
       "      <td>0.311721</td>\n",
       "      <td>0.426591</td>\n",
       "      <td>37.024992</td>\n",
       "      <td>-0.468819</td>\n",
       "      <td>0.044248</td>\n",
       "    </tr>\n",
       "    <tr>\n",
       "      <th>2016-10-05</th>\n",
       "      <td>0.300725</td>\n",
       "      <td>-0.568629</td>\n",
       "      <td>0.053272</td>\n",
       "      <td>0.044248</td>\n",
       "      <td>-27.856852</td>\n",
       "      <td>0.426591</td>\n",
       "      <td>0.743034</td>\n",
       "    </tr>\n",
       "    <tr>\n",
       "      <th>2016-10-06</th>\n",
       "      <td>0.264550</td>\n",
       "      <td>0.598276</td>\n",
       "      <td>0.390452</td>\n",
       "      <td>0.743034</td>\n",
       "      <td>34.149973</td>\n",
       "      <td>0.044248</td>\n",
       "      <td>0.149267</td>\n",
       "    </tr>\n",
       "    <tr>\n",
       "      <th>2016-10-07</th>\n",
       "      <td>0.536500</td>\n",
       "      <td>0.192409</td>\n",
       "      <td>0.335897</td>\n",
       "      <td>0.149267</td>\n",
       "      <td>-15.361277</td>\n",
       "      <td>0.743034</td>\n",
       "      <td>1.744696</td>\n",
       "    </tr>\n",
       "    <tr>\n",
       "      <th>2016-10-10</th>\n",
       "      <td>0.621118</td>\n",
       "      <td>1.911662</td>\n",
       "      <td>1.065985</td>\n",
       "      <td>1.744696</td>\n",
       "      <td>48.761380</td>\n",
       "      <td>0.149267</td>\n",
       "      <td>0.215424</td>\n",
       "    </tr>\n",
       "    <tr>\n",
       "      <th>2016-10-11</th>\n",
       "      <td>2.330030</td>\n",
       "      <td>1.661670</td>\n",
       "      <td>1.290098</td>\n",
       "      <td>0.215424</td>\n",
       "      <td>76.733416</td>\n",
       "      <td>1.744696</td>\n",
       "      <td>0.894239</td>\n",
       "    </tr>\n",
       "    <tr>\n",
       "      <th>2016-10-12</th>\n",
       "      <td>-0.297366</td>\n",
       "      <td>-0.598197</td>\n",
       "      <td>0.473322</td>\n",
       "      <td>0.894239</td>\n",
       "      <td>-41.308284</td>\n",
       "      <td>0.215424</td>\n",
       "      <td>-0.306801</td>\n",
       "    </tr>\n",
       "    <tr>\n",
       "      <th>2016-10-13</th>\n",
       "      <td>-0.477205</td>\n",
       "      <td>-0.457705</td>\n",
       "      <td>-0.882227</td>\n",
       "      <td>-0.306801</td>\n",
       "      <td>-6.370273</td>\n",
       "      <td>0.894239</td>\n",
       "      <td>0.555651</td>\n",
       "    </tr>\n",
       "    <tr>\n",
       "      <th>...</th>\n",
       "      <td>...</td>\n",
       "      <td>...</td>\n",
       "      <td>...</td>\n",
       "      <td>...</td>\n",
       "      <td>...</td>\n",
       "      <td>...</td>\n",
       "      <td>...</td>\n",
       "    </tr>\n",
       "    <tr>\n",
       "      <th>2017-04-19</th>\n",
       "      <td>0.332367</td>\n",
       "      <td>-0.028161</td>\n",
       "      <td>-0.467720</td>\n",
       "      <td>-0.368272</td>\n",
       "      <td>17.899800</td>\n",
       "      <td>-0.444194</td>\n",
       "      <td>1.251066</td>\n",
       "    </tr>\n",
       "    <tr>\n",
       "      <th>2017-04-20</th>\n",
       "      <td>-0.465182</td>\n",
       "      <td>0.647887</td>\n",
       "      <td>0.505518</td>\n",
       "      <td>1.251066</td>\n",
       "      <td>34.574431</td>\n",
       "      <td>-0.368272</td>\n",
       "      <td>-0.119348</td>\n",
       "    </tr>\n",
       "    <tr>\n",
       "      <th>2017-04-21</th>\n",
       "      <td>0.863900</td>\n",
       "      <td>-0.167926</td>\n",
       "      <td>0.488807</td>\n",
       "      <td>-0.119348</td>\n",
       "      <td>-25.723614</td>\n",
       "      <td>1.251066</td>\n",
       "      <td>0.962958</td>\n",
       "    </tr>\n",
       "    <tr>\n",
       "      <th>2017-04-24</th>\n",
       "      <td>0.744173</td>\n",
       "      <td>0.890104</td>\n",
       "      <td>0.937610</td>\n",
       "      <td>0.962958</td>\n",
       "      <td>-1.077281</td>\n",
       "      <td>-0.119348</td>\n",
       "      <td>0.619605</td>\n",
       "    </tr>\n",
       "    <tr>\n",
       "      <th>2017-04-25</th>\n",
       "      <td>0.285714</td>\n",
       "      <td>0.659951</td>\n",
       "      <td>0.481911</td>\n",
       "      <td>0.619605</td>\n",
       "      <td>10.138521</td>\n",
       "      <td>0.962958</td>\n",
       "      <td>-0.588113</td>\n",
       "    </tr>\n",
       "    <tr>\n",
       "      <th>2017-04-26</th>\n",
       "      <td>0.389132</td>\n",
       "      <td>-0.207039</td>\n",
       "      <td>-0.340585</td>\n",
       "      <td>-0.588113</td>\n",
       "      <td>6.198447</td>\n",
       "      <td>0.619605</td>\n",
       "      <td>0.076559</td>\n",
       "    </tr>\n",
       "    <tr>\n",
       "      <th>2017-04-27</th>\n",
       "      <td>-0.380702</td>\n",
       "      <td>-0.304288</td>\n",
       "      <td>-0.048821</td>\n",
       "      <td>0.076559</td>\n",
       "      <td>-28.914846</td>\n",
       "      <td>-0.588113</td>\n",
       "      <td>-0.097364</td>\n",
       "    </tr>\n",
       "    <tr>\n",
       "      <th>2017-04-28</th>\n",
       "      <td>0.118121</td>\n",
       "      <td>0.097114</td>\n",
       "      <td>-0.027912</td>\n",
       "      <td>-0.097364</td>\n",
       "      <td>46.426014</td>\n",
       "      <td>0.076559</td>\n",
       "      <td>2.039680</td>\n",
       "    </tr>\n",
       "    <tr>\n",
       "      <th>2017-05-01</th>\n",
       "      <td>0.700951</td>\n",
       "      <td>2.009702</td>\n",
       "      <td>1.179591</td>\n",
       "      <td>2.039680</td>\n",
       "      <td>61.085169</td>\n",
       "      <td>-0.097364</td>\n",
       "      <td>0.634466</td>\n",
       "    </tr>\n",
       "    <tr>\n",
       "      <th>2017-05-02</th>\n",
       "      <td>1.681599</td>\n",
       "      <td>0.604620</td>\n",
       "      <td>1.296909</td>\n",
       "      <td>0.634466</td>\n",
       "      <td>34.964946</td>\n",
       "      <td>2.039680</td>\n",
       "      <td>-0.305064</td>\n",
       "    </tr>\n",
       "    <tr>\n",
       "      <th>2017-05-03</th>\n",
       "      <td>-1.321675</td>\n",
       "      <td>-0.405159</td>\n",
       "      <td>-1.750204</td>\n",
       "      <td>-0.305064</td>\n",
       "      <td>0.760360</td>\n",
       "      <td>0.634466</td>\n",
       "      <td>-0.360397</td>\n",
       "    </tr>\n",
       "    <tr>\n",
       "      <th>2017-05-04</th>\n",
       "      <td>0.638780</td>\n",
       "      <td>-0.237304</td>\n",
       "      <td>1.067443</td>\n",
       "      <td>-0.360397</td>\n",
       "      <td>-48.854729</td>\n",
       "      <td>-0.305064</td>\n",
       "      <td>1.658363</td>\n",
       "    </tr>\n",
       "    <tr>\n",
       "      <th>2017-05-05</th>\n",
       "      <td>0.163800</td>\n",
       "      <td>1.250510</td>\n",
       "      <td>0.651533</td>\n",
       "      <td>1.658363</td>\n",
       "      <td>16.925700</td>\n",
       "      <td>-0.360397</td>\n",
       "      <td>2.718851</td>\n",
       "    </tr>\n",
       "    <tr>\n",
       "      <th>2017-05-08</th>\n",
       "      <td>1.546743</td>\n",
       "      <td>3.168210</td>\n",
       "      <td>1.546743</td>\n",
       "      <td>2.718851</td>\n",
       "      <td>78.399091</td>\n",
       "      <td>1.658363</td>\n",
       "      <td>0.640481</td>\n",
       "    </tr>\n",
       "    <tr>\n",
       "      <th>2017-05-09</th>\n",
       "      <td>3.247668</td>\n",
       "      <td>0.767729</td>\n",
       "      <td>2.965846</td>\n",
       "      <td>0.640481</td>\n",
       "      <td>-19.736562</td>\n",
       "      <td>2.718851</td>\n",
       "      <td>-0.474057</td>\n",
       "    </tr>\n",
       "    <tr>\n",
       "      <th>2017-05-10</th>\n",
       "      <td>-0.155976</td>\n",
       "      <td>-0.606921</td>\n",
       "      <td>-0.873249</td>\n",
       "      <td>-0.474057</td>\n",
       "      <td>-34.051999</td>\n",
       "      <td>0.640481</td>\n",
       "      <td>0.450215</td>\n",
       "    </tr>\n",
       "    <tr>\n",
       "      <th>2017-05-11</th>\n",
       "      <td>-0.768079</td>\n",
       "      <td>0.084448</td>\n",
       "      <td>0.131484</td>\n",
       "      <td>0.450215</td>\n",
       "      <td>5.616459</td>\n",
       "      <td>-0.474057</td>\n",
       "      <td>1.396557</td>\n",
       "    </tr>\n",
       "    <tr>\n",
       "      <th>2017-05-12</th>\n",
       "      <td>1.475894</td>\n",
       "      <td>1.525281</td>\n",
       "      <td>1.549471</td>\n",
       "      <td>1.396557</td>\n",
       "      <td>19.343048</td>\n",
       "      <td>0.450215</td>\n",
       "      <td>-0.256246</td>\n",
       "    </tr>\n",
       "    <tr>\n",
       "      <th>2017-05-15</th>\n",
       "      <td>0.846800</td>\n",
       "      <td>0.147040</td>\n",
       "      <td>0.245684</td>\n",
       "      <td>-0.256246</td>\n",
       "      <td>-20.036568</td>\n",
       "      <td>1.396557</td>\n",
       "      <td>-0.147720</td>\n",
       "    </tr>\n",
       "    <tr>\n",
       "      <th>2017-05-16</th>\n",
       "      <td>-0.044869</td>\n",
       "      <td>-0.376636</td>\n",
       "      <td>-0.212835</td>\n",
       "      <td>-0.147720</td>\n",
       "      <td>-22.919283</td>\n",
       "      <td>-0.256246</td>\n",
       "      <td>-3.357561</td>\n",
       "    </tr>\n",
       "    <tr>\n",
       "      <th>2017-05-17</th>\n",
       "      <td>-1.500577</td>\n",
       "      <td>-0.954761</td>\n",
       "      <td>-3.238108</td>\n",
       "      <td>-3.357561</td>\n",
       "      <td>153.224599</td>\n",
       "      <td>-0.147720</td>\n",
       "      <td>1.524126</td>\n",
       "    </tr>\n",
       "    <tr>\n",
       "      <th>2017-05-18</th>\n",
       "      <td>-1.516927</td>\n",
       "      <td>-0.795756</td>\n",
       "      <td>0.948500</td>\n",
       "      <td>1.524126</td>\n",
       "      <td>-33.878766</td>\n",
       "      <td>-3.357561</td>\n",
       "      <td>0.340894</td>\n",
       "    </tr>\n",
       "    <tr>\n",
       "      <th>2017-05-19</th>\n",
       "      <td>1.394857</td>\n",
       "      <td>0.417373</td>\n",
       "      <td>0.992523</td>\n",
       "      <td>0.340894</td>\n",
       "      <td>-19.683582</td>\n",
       "      <td>1.524126</td>\n",
       "      <td>0.607605</td>\n",
       "    </tr>\n",
       "    <tr>\n",
       "      <th>2017-05-22</th>\n",
       "      <td>0.404225</td>\n",
       "      <td>0.389661</td>\n",
       "      <td>0.183450</td>\n",
       "      <td>0.607605</td>\n",
       "      <td>-14.815409</td>\n",
       "      <td>0.340894</td>\n",
       "      <td>-0.123385</td>\n",
       "    </tr>\n",
       "    <tr>\n",
       "      <th>2017-05-23</th>\n",
       "      <td>0.584416</td>\n",
       "      <td>0.207013</td>\n",
       "      <td>0.261592</td>\n",
       "      <td>-0.123385</td>\n",
       "      <td>-13.269651</td>\n",
       "      <td>0.607605</td>\n",
       "      <td>-0.299090</td>\n",
       "    </tr>\n",
       "    <tr>\n",
       "      <th>2017-05-24</th>\n",
       "      <td>-0.684312</td>\n",
       "      <td>-0.471272</td>\n",
       "      <td>-0.417455</td>\n",
       "      <td>-0.299090</td>\n",
       "      <td>-3.512835</td>\n",
       "      <td>-0.123385</td>\n",
       "      <td>0.345637</td>\n",
       "    </tr>\n",
       "    <tr>\n",
       "      <th>2017-05-25</th>\n",
       "      <td>-0.071503</td>\n",
       "      <td>0.116754</td>\n",
       "      <td>0.235803</td>\n",
       "      <td>0.345637</td>\n",
       "      <td>0.085560</td>\n",
       "      <td>-0.299090</td>\n",
       "      <td>-0.168974</td>\n",
       "    </tr>\n",
       "    <tr>\n",
       "      <th>2017-05-26</th>\n",
       "      <td>0.175633</td>\n",
       "      <td>-0.071267</td>\n",
       "      <td>0.182971</td>\n",
       "      <td>-0.168974</td>\n",
       "      <td>13.995089</td>\n",
       "      <td>0.345637</td>\n",
       "      <td>0.039060</td>\n",
       "    </tr>\n",
       "    <tr>\n",
       "      <th>2017-05-30</th>\n",
       "      <td>-0.376623</td>\n",
       "      <td>0.123185</td>\n",
       "      <td>0.013045</td>\n",
       "      <td>0.039060</td>\n",
       "      <td>-8.212403</td>\n",
       "      <td>-0.168974</td>\n",
       "      <td>-0.592178</td>\n",
       "    </tr>\n",
       "    <tr>\n",
       "      <th>2017-05-31</th>\n",
       "      <td>0.358493</td>\n",
       "      <td>-0.168361</td>\n",
       "      <td>-0.619579</td>\n",
       "      <td>-0.592178</td>\n",
       "      <td>21.485293</td>\n",
       "      <td>0.039060</td>\n",
       "      <td>NaN</td>\n",
       "    </tr>\n",
       "  </tbody>\n",
       "</table>\n",
       "<p>187 rows × 7 columns</p>\n",
       "</div>"
      ],
      "text/plain": [
       "                Open      High       Low     Close      Volume      lag1  \\\n",
       "Date                                                                       \n",
       "2016-09-01       NaN       NaN       NaN       NaN         NaN       NaN   \n",
       "2016-09-02  1.469757  1.123596  1.136148  0.936944   -1.373199       NaN   \n",
       "2016-09-06  0.185701  0.277778  0.645946 -0.027847    2.071524  0.936944   \n",
       "2016-09-07 -0.064875  0.424746 -0.409264  0.612813   57.603094 -0.027847   \n",
       "2016-09-08 -0.537884 -1.369989 -1.709162 -2.620893   25.110036  0.612813   \n",
       "2016-09-09 -2.433566 -1.444952 -2.004941 -2.264973  -12.159992 -2.620893   \n",
       "2016-09-12 -1.901758  0.000000 -0.581790  2.239891   -2.715412 -2.264973   \n",
       "2016-09-13  4.734535  2.903897  4.593777  2.380501   37.276192  2.239891   \n",
       "2016-09-14  1.134778  3.897417  1.268184  3.538675   80.680608  2.380501   \n",
       "2016-09-15  4.718109  2.388746  4.502762  3.399839  -19.340466  3.538675   \n",
       "2016-09-16  1.106622  0.345632  0.484624 -0.562430  -11.837424  3.399839   \n",
       "2016-09-19  0.060806  0.043055 -0.692739 -1.166029  -41.137984 -0.562430   \n",
       "2016-09-20 -1.857800 -1.773111 -0.653422 -0.008804  -26.601375 -1.166029   \n",
       "2016-09-21  0.707651 -0.113915 -0.062217 -0.017610    4.313914 -0.008804   \n",
       "2016-09-22  0.439174  0.833406  1.387407  0.942316  -13.691014 -0.017610   \n",
       "2016-09-23  0.061216 -0.130503 -2.149123 -1.666376   68.890964  0.942316   \n",
       "2016-09-26 -2.429645 -1.219618  0.000000  0.150830  -43.085391 -1.666376   \n",
       "2016-09-27  1.218201 -0.185202  0.708203  0.186038  -17.616767  0.150830   \n",
       "2016-09-28  0.610619  1.289981  0.970269  0.760456   20.455922  0.186038   \n",
       "2016-09-29 -0.466180 -0.732729 -1.437010 -1.553313   21.071783  0.760456   \n",
       "2016-09-30 -0.618593 -0.377856  0.000000  0.775539    1.371294 -1.553313   \n",
       "2016-10-03  0.222301 -0.282262  0.429338 -0.468819  -40.345538  0.775539   \n",
       "2016-10-04  0.310531  1.114551  0.311721  0.426591   37.024992 -0.468819   \n",
       "2016-10-05  0.300725 -0.568629  0.053272  0.044248  -27.856852  0.426591   \n",
       "2016-10-06  0.264550  0.598276  0.390452  0.743034   34.149973  0.044248   \n",
       "2016-10-07  0.536500  0.192409  0.335897  0.149267  -15.361277  0.743034   \n",
       "2016-10-10  0.621118  1.911662  1.065985  1.744696   48.761380  0.149267   \n",
       "2016-10-11  2.330030  1.661670  1.290098  0.215424   76.733416  1.744696   \n",
       "2016-10-12 -0.297366 -0.598197  0.473322  0.894239  -41.308284  0.215424   \n",
       "2016-10-13 -0.477205 -0.457705 -0.882227 -0.306801   -6.370273  0.894239   \n",
       "...              ...       ...       ...       ...         ...       ...   \n",
       "2017-04-19  0.332367 -0.028161 -0.467720 -0.368272   17.899800 -0.444194   \n",
       "2017-04-20 -0.465182  0.647887  0.505518  1.251066   34.574431 -0.368272   \n",
       "2017-04-21  0.863900 -0.167926  0.488807 -0.119348  -25.723614  1.251066   \n",
       "2017-04-24  0.744173  0.890104  0.937610  0.962958   -1.077281 -0.119348   \n",
       "2017-04-25  0.285714  0.659951  0.481911  0.619605   10.138521  0.962958   \n",
       "2017-04-26  0.389132 -0.207039 -0.340585 -0.588113    6.198447  0.619605   \n",
       "2017-04-27 -0.380702 -0.304288 -0.048821  0.076559  -28.914846 -0.588113   \n",
       "2017-04-28  0.118121  0.097114 -0.027912 -0.097364   46.426014  0.076559   \n",
       "2017-05-01  0.700951  2.009702  1.179591  2.039680   61.085169 -0.097364   \n",
       "2017-05-02  1.681599  0.604620  1.296909  0.634466   34.964946  2.039680   \n",
       "2017-05-03 -1.321675 -0.405159 -1.750204 -0.305064    0.760360  0.634466   \n",
       "2017-05-04  0.638780 -0.237304  1.067443 -0.360397  -48.854729 -0.305064   \n",
       "2017-05-05  0.163800  1.250510  0.651533  1.658363   16.925700 -0.360397   \n",
       "2017-05-08  1.546743  3.168210  1.546743  2.718851   78.399091  1.658363   \n",
       "2017-05-09  3.247668  0.767729  2.965846  0.640481  -19.736562  2.718851   \n",
       "2017-05-10 -0.155976 -0.606921 -0.873249 -0.474057  -34.051999  0.640481   \n",
       "2017-05-11 -0.768079  0.084448  0.131484  0.450215    5.616459 -0.474057   \n",
       "2017-05-12  1.475894  1.525281  1.549471  1.396557   19.343048  0.450215   \n",
       "2017-05-15  0.846800  0.147040  0.245684 -0.256246  -20.036568  1.396557   \n",
       "2017-05-16 -0.044869 -0.376636 -0.212835 -0.147720  -22.919283 -0.256246   \n",
       "2017-05-17 -1.500577 -0.954761 -3.238108 -3.357561  153.224599 -0.147720   \n",
       "2017-05-18 -1.516927 -0.795756  0.948500  1.524126  -33.878766 -3.357561   \n",
       "2017-05-19  1.394857  0.417373  0.992523  0.340894  -19.683582  1.524126   \n",
       "2017-05-22  0.404225  0.389661  0.183450  0.607605  -14.815409  0.340894   \n",
       "2017-05-23  0.584416  0.207013  0.261592 -0.123385  -13.269651  0.607605   \n",
       "2017-05-24 -0.684312 -0.471272 -0.417455 -0.299090   -3.512835 -0.123385   \n",
       "2017-05-25 -0.071503  0.116754  0.235803  0.345637    0.085560 -0.299090   \n",
       "2017-05-26  0.175633 -0.071267  0.182971 -0.168974   13.995089  0.345637   \n",
       "2017-05-30 -0.376623  0.123185  0.013045  0.039060   -8.212403 -0.168974   \n",
       "2017-05-31  0.358493 -0.168361 -0.619579 -0.592178   21.485293  0.039060   \n",
       "\n",
       "               lead1  \n",
       "Date                  \n",
       "2016-09-01       NaN  \n",
       "2016-09-02 -0.027847  \n",
       "2016-09-06  0.612813  \n",
       "2016-09-07 -2.620893  \n",
       "2016-09-08 -2.264973  \n",
       "2016-09-09  2.239891  \n",
       "2016-09-12  2.380501  \n",
       "2016-09-13  3.538675  \n",
       "2016-09-14  3.399839  \n",
       "2016-09-15 -0.562430  \n",
       "2016-09-16 -1.166029  \n",
       "2016-09-19 -0.008804  \n",
       "2016-09-20 -0.017610  \n",
       "2016-09-21  0.942316  \n",
       "2016-09-22 -1.666376  \n",
       "2016-09-23  0.150830  \n",
       "2016-09-26  0.186038  \n",
       "2016-09-27  0.760456  \n",
       "2016-09-28 -1.553313  \n",
       "2016-09-29  0.775539  \n",
       "2016-09-30 -0.468819  \n",
       "2016-10-03  0.426591  \n",
       "2016-10-04  0.044248  \n",
       "2016-10-05  0.743034  \n",
       "2016-10-06  0.149267  \n",
       "2016-10-07  1.744696  \n",
       "2016-10-10  0.215424  \n",
       "2016-10-11  0.894239  \n",
       "2016-10-12 -0.306801  \n",
       "2016-10-13  0.555651  \n",
       "...              ...  \n",
       "2017-04-19  1.251066  \n",
       "2017-04-20 -0.119348  \n",
       "2017-04-21  0.962958  \n",
       "2017-04-24  0.619605  \n",
       "2017-04-25 -0.588113  \n",
       "2017-04-26  0.076559  \n",
       "2017-04-27 -0.097364  \n",
       "2017-04-28  2.039680  \n",
       "2017-05-01  0.634466  \n",
       "2017-05-02 -0.305064  \n",
       "2017-05-03 -0.360397  \n",
       "2017-05-04  1.658363  \n",
       "2017-05-05  2.718851  \n",
       "2017-05-08  0.640481  \n",
       "2017-05-09 -0.474057  \n",
       "2017-05-10  0.450215  \n",
       "2017-05-11  1.396557  \n",
       "2017-05-12 -0.256246  \n",
       "2017-05-15 -0.147720  \n",
       "2017-05-16 -3.357561  \n",
       "2017-05-17  1.524126  \n",
       "2017-05-18  0.340894  \n",
       "2017-05-19  0.607605  \n",
       "2017-05-22 -0.123385  \n",
       "2017-05-23 -0.299090  \n",
       "2017-05-24  0.345637  \n",
       "2017-05-25 -0.168974  \n",
       "2017-05-26  0.039060  \n",
       "2017-05-30 -0.592178  \n",
       "2017-05-31       NaN  \n",
       "\n",
       "[187 rows x 7 columns]"
      ]
     },
     "execution_count": 14,
     "metadata": {},
     "output_type": "execute_result"
    }
   ],
   "source": [
    "aapl.pct_change()*100"
   ]
  },
  {
   "cell_type": "code",
   "execution_count": 51,
   "metadata": {
    "collapsed": true
   },
   "outputs": [],
   "source": [
    "import matplotlib.pyplot as plt\n",
    "import matplotlib as mpl\n",
    "% matplotlib inline"
   ]
  },
  {
   "cell_type": "code",
   "execution_count": 52,
   "metadata": {},
   "outputs": [
    {
     "data": {
      "image/png": "[encoded data removed]",
      "text/plain": [
       "<matplotlib.figure.Figure at 0x8e33f60>"
      ]
     },
     "metadata": {},
     "output_type": "display_data"
    }
   ],
   "source": [
    "mov_avg.plot(label='Mov Avg')\n",
    "aapl.Volume.plot(label='Volume')\n",
    "plt.legend()\n",
    "plt.show()"
   ]
  },
  {
   "cell_type": "markdown",
   "metadata": {},
   "source": [
    "Create a list of the ticker symbols"
   ]
  },
  {
   "cell_type": "code",
   "execution_count": 53,
   "metadata": {
    "collapsed": true
   },
   "outputs": [],
   "source": [
    "ticker=['AAPL','GOOGL',\"MSFT\",\"IBM\"]"
   ]
  },
  {
   "cell_type": "code",
   "execution_count": 56,
   "metadata": {},
   "outputs": [],
   "source": [
    "#Concatenate the tech dataframes together to a single data frame called tech_stocks."
   ]
  },
  {
   "cell_type": "code",
   "execution_count": 55,
   "metadata": {},
   "outputs": [
    {
     "data": {
      "text/html": [
       "<div>\n",
       "<style scoped>\n",
       "    .dataframe tbody tr th:only-of-type {\n",
       "        vertical-align: middle;\n",
       "    }\n",
       "\n",
       "    .dataframe tbody tr th {\n",
       "        vertical-align: top;\n",
       "    }\n",
       "\n",
       "    .dataframe thead tr th {\n",
       "        text-align: left;\n",
       "    }\n",
       "\n",
       "    .dataframe thead tr:last-of-type th {\n",
       "        text-align: right;\n",
       "    }\n",
       "</style>\n",
       "<table border=\"1\" class=\"dataframe\">\n",
       "  <thead>\n",
       "    <tr>\n",
       "      <th></th>\n",
       "      <th colspan=\"5\" halign=\"left\">AAPL</th>\n",
       "      <th colspan=\"5\" halign=\"left\">GOOGL</th>\n",
       "      <th colspan=\"5\" halign=\"left\">MSFT</th>\n",
       "      <th colspan=\"5\" halign=\"left\">IBM</th>\n",
       "    </tr>\n",
       "    <tr>\n",
       "      <th></th>\n",
       "      <th>Open</th>\n",
       "      <th>High</th>\n",
       "      <th>Low</th>\n",
       "      <th>Close</th>\n",
       "      <th>Volume</th>\n",
       "      <th>Open</th>\n",
       "      <th>High</th>\n",
       "      <th>Low</th>\n",
       "      <th>Close</th>\n",
       "      <th>Volume</th>\n",
       "      <th>Open</th>\n",
       "      <th>High</th>\n",
       "      <th>Low</th>\n",
       "      <th>Close</th>\n",
       "      <th>Volume</th>\n",
       "      <th>Open</th>\n",
       "      <th>High</th>\n",
       "      <th>Low</th>\n",
       "      <th>Close</th>\n",
       "      <th>Volume</th>\n",
       "    </tr>\n",
       "    <tr>\n",
       "      <th>Date</th>\n",
       "      <th></th>\n",
       "      <th></th>\n",
       "      <th></th>\n",
       "      <th></th>\n",
       "      <th></th>\n",
       "      <th></th>\n",
       "      <th></th>\n",
       "      <th></th>\n",
       "      <th></th>\n",
       "      <th></th>\n",
       "      <th></th>\n",
       "      <th></th>\n",
       "      <th></th>\n",
       "      <th></th>\n",
       "      <th></th>\n",
       "      <th></th>\n",
       "      <th></th>\n",
       "      <th></th>\n",
       "      <th></th>\n",
       "      <th></th>\n",
       "    </tr>\n",
       "  </thead>\n",
       "  <tbody>\n",
       "    <tr>\n",
       "      <th>2016-09-01</th>\n",
       "      <td>106.14</td>\n",
       "      <td>106.80</td>\n",
       "      <td>105.62</td>\n",
       "      <td>106.73</td>\n",
       "      <td>26701523</td>\n",
       "      <td>791.98</td>\n",
       "      <td>792.89</td>\n",
       "      <td>786.33</td>\n",
       "      <td>791.40</td>\n",
       "      <td>1303460</td>\n",
       "      <td>57.01</td>\n",
       "      <td>57.82</td>\n",
       "      <td>57.01</td>\n",
       "      <td>57.59</td>\n",
       "      <td>26075363</td>\n",
       "      <td>158.32</td>\n",
       "      <td>159.62</td>\n",
       "      <td>158.10</td>\n",
       "      <td>159.54</td>\n",
       "      <td>2358385</td>\n",
       "    </tr>\n",
       "    <tr>\n",
       "      <th>2016-09-02</th>\n",
       "      <td>107.70</td>\n",
       "      <td>108.00</td>\n",
       "      <td>106.82</td>\n",
       "      <td>107.73</td>\n",
       "      <td>26334858</td>\n",
       "      <td>795.27</td>\n",
       "      <td>797.10</td>\n",
       "      <td>793.26</td>\n",
       "      <td>796.87</td>\n",
       "      <td>1347368</td>\n",
       "      <td>57.67</td>\n",
       "      <td>58.19</td>\n",
       "      <td>57.42</td>\n",
       "      <td>57.67</td>\n",
       "      <td>18900489</td>\n",
       "      <td>159.88</td>\n",
       "      <td>160.57</td>\n",
       "      <td>159.15</td>\n",
       "      <td>159.55</td>\n",
       "      <td>2315366</td>\n",
       "    </tr>\n",
       "    <tr>\n",
       "      <th>2016-09-06</th>\n",
       "      <td>107.90</td>\n",
       "      <td>108.30</td>\n",
       "      <td>107.51</td>\n",
       "      <td>107.70</td>\n",
       "      <td>26880391</td>\n",
       "      <td>798.39</td>\n",
       "      <td>810.89</td>\n",
       "      <td>795.43</td>\n",
       "      <td>808.02</td>\n",
       "      <td>1989537</td>\n",
       "      <td>57.78</td>\n",
       "      <td>57.80</td>\n",
       "      <td>57.21</td>\n",
       "      <td>57.61</td>\n",
       "      <td>16278416</td>\n",
       "      <td>159.88</td>\n",
       "      <td>160.86</td>\n",
       "      <td>159.11</td>\n",
       "      <td>160.35</td>\n",
       "      <td>2994056</td>\n",
       "    </tr>\n",
       "    <tr>\n",
       "      <th>2016-09-07</th>\n",
       "      <td>107.83</td>\n",
       "      <td>108.76</td>\n",
       "      <td>107.07</td>\n",
       "      <td>108.36</td>\n",
       "      <td>42364328</td>\n",
       "      <td>807.93</td>\n",
       "      <td>810.60</td>\n",
       "      <td>803.72</td>\n",
       "      <td>807.99</td>\n",
       "      <td>1145724</td>\n",
       "      <td>57.47</td>\n",
       "      <td>57.84</td>\n",
       "      <td>57.40</td>\n",
       "      <td>57.66</td>\n",
       "      <td>17493359</td>\n",
       "      <td>160.19</td>\n",
       "      <td>161.76</td>\n",
       "      <td>160.00</td>\n",
       "      <td>161.64</td>\n",
       "      <td>2867257</td>\n",
       "    </tr>\n",
       "    <tr>\n",
       "      <th>2016-09-08</th>\n",
       "      <td>107.25</td>\n",
       "      <td>107.27</td>\n",
       "      <td>105.24</td>\n",
       "      <td>105.52</td>\n",
       "      <td>53002026</td>\n",
       "      <td>805.22</td>\n",
       "      <td>808.42</td>\n",
       "      <td>801.01</td>\n",
       "      <td>802.84</td>\n",
       "      <td>1177660</td>\n",
       "      <td>57.63</td>\n",
       "      <td>57.79</td>\n",
       "      <td>57.18</td>\n",
       "      <td>57.43</td>\n",
       "      <td>20146083</td>\n",
       "      <td>160.55</td>\n",
       "      <td>161.21</td>\n",
       "      <td>158.76</td>\n",
       "      <td>159.00</td>\n",
       "      <td>3963164</td>\n",
       "    </tr>\n",
       "  </tbody>\n",
       "</table>\n",
       "</div>"
      ],
      "text/plain": [
       "              AAPL                                     GOOGL                  \\\n",
       "              Open    High     Low   Close    Volume    Open    High     Low   \n",
       "Date                                                                           \n",
       "2016-09-01  106.14  106.80  105.62  106.73  26701523  791.98  792.89  786.33   \n",
       "2016-09-02  107.70  108.00  106.82  107.73  26334858  795.27  797.10  793.26   \n",
       "2016-09-06  107.90  108.30  107.51  107.70  26880391  798.39  810.89  795.43   \n",
       "2016-09-07  107.83  108.76  107.07  108.36  42364328  807.93  810.60  803.72   \n",
       "2016-09-08  107.25  107.27  105.24  105.52  53002026  805.22  808.42  801.01   \n",
       "\n",
       "                              MSFT                                    IBM  \\\n",
       "             Close   Volume   Open   High    Low  Close    Volume    Open   \n",
       "Date                                                                        \n",
       "2016-09-01  791.40  1303460  57.01  57.82  57.01  57.59  26075363  158.32   \n",
       "2016-09-02  796.87  1347368  57.67  58.19  57.42  57.67  18900489  159.88   \n",
       "2016-09-06  808.02  1989537  57.78  57.80  57.21  57.61  16278416  159.88   \n",
       "2016-09-07  807.99  1145724  57.47  57.84  57.40  57.66  17493359  160.19   \n",
       "2016-09-08  802.84  1177660  57.63  57.79  57.18  57.43  20146083  160.55   \n",
       "\n",
       "                                             \n",
       "              High     Low   Close   Volume  \n",
       "Date                                         \n",
       "2016-09-01  159.62  158.10  159.54  2358385  \n",
       "2016-09-02  160.57  159.15  159.55  2315366  \n",
       "2016-09-06  160.86  159.11  160.35  2994056  \n",
       "2016-09-07  161.76  160.00  161.64  2867257  \n",
       "2016-09-08  161.21  158.76  159.00  3963164  "
      ]
     },
     "execution_count": 55,
     "metadata": {},
     "output_type": "execute_result"
    }
   ],
   "source": [
    "tech_stocks = pd.concat([aapl, google, microsoft, ibm], axis=1, keys=ticker)\n",
    "tech_stocks.head()"
   ]
  },
  {
   "cell_type": "code",
   "execution_count": 20,
   "metadata": {},
   "outputs": [
    {
     "name": "stderr",
     "output_type": "stream",
     "text": [
      "C:\\Users\\tejks\\AppData\\Local\\Continuum\\Anaconda3\\lib\\site-packages\\pandas_datareader\\google\\daily.py:40: UnstableAPIWarning: \n",
      "The Google Finance API has not been stable since late 2017. Requests seem\n",
      "to fail at random. Failure is especially common when bulk downloading.\n",
      "\n",
      "  warnings.warn(UNSTABLE_WARNING, UnstableAPIWarning)\n",
      "C:\\Users\\tejks\\AppData\\Local\\Continuum\\Anaconda3\\lib\\site-packages\\ipykernel\\__main__.py:4: DeprecationWarning: \n",
      ".ix is deprecated. Please use\n",
      ".loc for label based indexing or\n",
      ".iloc for positional indexing\n",
      "\n",
      "See the documentation here:\n",
      "http://pandas.pydata.org/pandas-docs/stable/indexing.html#ix-indexer-is-deprecated\n"
     ]
    },
    {
     "name": "stdout",
     "output_type": "stream",
     "text": [
      "<class 'list'>\n",
      "<class 'pandas.core.frame.DataFrame'>\n"
     ]
    },
    {
     "data": {
      "text/html": [
       "<div>\n",
       "<style scoped>\n",
       "    .dataframe tbody tr th:only-of-type {\n",
       "        vertical-align: middle;\n",
       "    }\n",
       "\n",
       "    .dataframe tbody tr th {\n",
       "        vertical-align: top;\n",
       "    }\n",
       "\n",
       "    .dataframe thead th {\n",
       "        text-align: right;\n",
       "    }\n",
       "</style>\n",
       "<table border=\"1\" class=\"dataframe\">\n",
       "  <thead>\n",
       "    <tr style=\"text-align: right;\">\n",
       "      <th></th>\n",
       "      <th>Open</th>\n",
       "      <th>High</th>\n",
       "      <th>Low</th>\n",
       "      <th>Close</th>\n",
       "      <th>Volume</th>\n",
       "      <th>Firm</th>\n",
       "    </tr>\n",
       "    <tr>\n",
       "      <th>Date</th>\n",
       "      <th></th>\n",
       "      <th></th>\n",
       "      <th></th>\n",
       "      <th></th>\n",
       "      <th></th>\n",
       "      <th></th>\n",
       "    </tr>\n",
       "  </thead>\n",
       "  <tbody>\n",
       "  </tbody>\n",
       "</table>\n",
       "</div>"
      ],
      "text/plain": [
       "Empty DataFrame\n",
       "Columns: [Open, High, Low, Close, Volume, Firm]\n",
       "Index: []"
      ]
     },
     "execution_count": 20,
     "metadata": {},
     "output_type": "execute_result"
    }
   ],
   "source": [
    "alldata = []\n",
    "for company in ['GOOG','AAPL','CSCO','DIS','MSFT']:\n",
    "    data=web.DataReader(company,'google', start, end)\n",
    "    data=data.ix['2017-09-01':'2017-10-01']\n",
    "    data['Firm'] = company\n",
    "    alldata.append(data)\n",
    "    \n",
    "data =pd.concat(alldata)\n",
    "print (type(alldata))\n",
    "print (type(data))\n",
    "data"
   ]
  },
  {
   "cell_type": "code",
   "execution_count": 21,
   "metadata": {},
   "outputs": [
    {
     "ename": "SyntaxError",
     "evalue": "invalid syntax (<ipython-input-21-a596e1d087fb>, line 1)",
     "output_type": "error",
     "traceback": [
      "\u001b[1;36m  File \u001b[1;32m\"<ipython-input-21-a596e1d087fb>\"\u001b[1;36m, line \u001b[1;32m1\u001b[0m\n\u001b[1;33m    Create a DataFrame consisting of the closing price of these stocks,\u001b[0m\n\u001b[1;37m           ^\u001b[0m\n\u001b[1;31mSyntaxError\u001b[0m\u001b[1;31m:\u001b[0m invalid syntax\n"
     ]
    }
   ],
   "source": [
    "Create a DataFrame consisting of the closing price of these stocks,"
   ]
  },
  {
   "cell_type": "code",
   "execution_count": 24,
   "metadata": {},
   "outputs": [
    {
     "data": {
      "text/html": [
       "<div>\n",
       "<style scoped>\n",
       "    .dataframe tbody tr th:only-of-type {\n",
       "        vertical-align: middle;\n",
       "    }\n",
       "\n",
       "    .dataframe tbody tr th {\n",
       "        vertical-align: top;\n",
       "    }\n",
       "\n",
       "    .dataframe thead th {\n",
       "        text-align: right;\n",
       "    }\n",
       "</style>\n",
       "<table border=\"1\" class=\"dataframe\">\n",
       "  <thead>\n",
       "    <tr style=\"text-align: right;\">\n",
       "      <th></th>\n",
       "      <th>AAPL</th>\n",
       "      <th>GOOG</th>\n",
       "      <th>IBM</th>\n",
       "      <th>MSFT</th>\n",
       "    </tr>\n",
       "    <tr>\n",
       "      <th>Date</th>\n",
       "      <th></th>\n",
       "      <th></th>\n",
       "      <th></th>\n",
       "      <th></th>\n",
       "    </tr>\n",
       "  </thead>\n",
       "  <tbody>\n",
       "    <tr>\n",
       "      <th>2016-09-01</th>\n",
       "      <td>106.73</td>\n",
       "      <td>791.40</td>\n",
       "      <td>159.54</td>\n",
       "      <td>57.59</td>\n",
       "    </tr>\n",
       "    <tr>\n",
       "      <th>2016-09-02</th>\n",
       "      <td>107.73</td>\n",
       "      <td>796.87</td>\n",
       "      <td>159.55</td>\n",
       "      <td>57.67</td>\n",
       "    </tr>\n",
       "    <tr>\n",
       "      <th>2016-09-06</th>\n",
       "      <td>107.70</td>\n",
       "      <td>808.02</td>\n",
       "      <td>160.35</td>\n",
       "      <td>57.61</td>\n",
       "    </tr>\n",
       "    <tr>\n",
       "      <th>2016-09-07</th>\n",
       "      <td>108.36</td>\n",
       "      <td>807.99</td>\n",
       "      <td>161.64</td>\n",
       "      <td>57.66</td>\n",
       "    </tr>\n",
       "    <tr>\n",
       "      <th>2016-09-08</th>\n",
       "      <td>105.52</td>\n",
       "      <td>802.84</td>\n",
       "      <td>159.00</td>\n",
       "      <td>57.43</td>\n",
       "    </tr>\n",
       "  </tbody>\n",
       "</table>\n",
       "</div>"
      ],
      "text/plain": [
       "              AAPL    GOOG     IBM   MSFT\n",
       "Date                                     \n",
       "2016-09-01  106.73  791.40  159.54  57.59\n",
       "2016-09-02  107.73  796.87  159.55  57.67\n",
       "2016-09-06  107.70  808.02  160.35  57.61\n",
       "2016-09-07  108.36  807.99  161.64  57.66\n",
       "2016-09-08  105.52  802.84  159.00  57.43"
      ]
     },
     "execution_count": 24,
     "metadata": {},
     "output_type": "execute_result"
    }
   ],
   "source": [
    "stocks = pd.DataFrame({\"AAPL\": aapl[\"Close\"],\n",
    "                      \"MSFT\": microsoft[\"Close\"],\n",
    "                      \"GOOG\": google[\"Close\"],\n",
    "                      \"IBM\":ibm[\"Close\"]})\n",
    " \n",
    "stocks.head()"
   ]
  },
  {
   "cell_type": "code",
   "execution_count": 25,
   "metadata": {},
   "outputs": [
    {
     "ename": "SyntaxError",
     "evalue": "invalid syntax (<ipython-input-25-ea3237fd42c6>, line 1)",
     "output_type": "error",
     "traceback": [
      "\u001b[1;36m  File \u001b[1;32m\"<ipython-input-25-ea3237fd42c6>\"\u001b[1;36m, line \u001b[1;32m1\u001b[0m\n\u001b[1;33m    Plot all stocks in the dataframe\u001b[0m\n\u001b[1;37m           ^\u001b[0m\n\u001b[1;31mSyntaxError\u001b[0m\u001b[1;31m:\u001b[0m invalid syntax\n"
     ]
    }
   ],
   "source": [
    "Plot all stocks in the dataframe"
   ]
  },
  {
   "cell_type": "code",
   "execution_count": 26,
   "metadata": {},
   "outputs": [
    {
     "data": {
      "text/plain": [
       "<matplotlib.axes._subplots.AxesSubplot at 0x8c184a8>"
      ]
     },
     "execution_count": 26,
     "metadata": {},
     "output_type": "execute_result"
    },
    {
     "data": {
      "image/png": "[encoded data removed]",
      "text/plain": [
       "<matplotlib.figure.Figure at 0x8c18630>"
      ]
     },
     "metadata": {},
     "output_type": "display_data"
    }
   ],
   "source": [
    "stocks.plot(grid = True)"
   ]
  },
  {
   "cell_type": "code",
   "execution_count": 57,
   "metadata": {},
   "outputs": [
    {
     "data": {
      "text/plain": [
       "<matplotlib.axes._subplots.AxesSubplot at 0x931e358>"
      ]
     },
     "execution_count": 57,
     "metadata": {},
     "output_type": "execute_result"
    },
    {
     "data": {
      "image/png": "[encoded data removed]",
      "text/plain": [
       "<matplotlib.figure.Figure at 0x8ddbf98>"
      ]
     },
     "metadata": {},
     "output_type": "display_data"
    }
   ],
   "source": [
    "stocks.plot(secondary_y = [\"AAPL\", \"MSFT\", \"IBM\"], grid = True)"
   ]
  },
  {
   "cell_type": "code",
   "execution_count": 28,
   "metadata": {},
   "outputs": [
    {
     "data": {
      "text/html": [
       "<div>\n",
       "<style scoped>\n",
       "    .dataframe tbody tr th:only-of-type {\n",
       "        vertical-align: middle;\n",
       "    }\n",
       "\n",
       "    .dataframe tbody tr th {\n",
       "        vertical-align: top;\n",
       "    }\n",
       "\n",
       "    .dataframe thead th {\n",
       "        text-align: right;\n",
       "    }\n",
       "</style>\n",
       "<table border=\"1\" class=\"dataframe\">\n",
       "  <thead>\n",
       "    <tr style=\"text-align: right;\">\n",
       "      <th></th>\n",
       "      <th>AAPL</th>\n",
       "      <th>GOOG</th>\n",
       "      <th>IBM</th>\n",
       "      <th>MSFT</th>\n",
       "    </tr>\n",
       "    <tr>\n",
       "      <th>Date</th>\n",
       "      <th></th>\n",
       "      <th></th>\n",
       "      <th></th>\n",
       "      <th></th>\n",
       "    </tr>\n",
       "  </thead>\n",
       "  <tbody>\n",
       "    <tr>\n",
       "      <th>2016-09-01</th>\n",
       "      <td>1.000000</td>\n",
       "      <td>1.000000</td>\n",
       "      <td>1.000000</td>\n",
       "      <td>1.000000</td>\n",
       "    </tr>\n",
       "    <tr>\n",
       "      <th>2016-09-02</th>\n",
       "      <td>1.009369</td>\n",
       "      <td>1.006912</td>\n",
       "      <td>1.000063</td>\n",
       "      <td>1.001389</td>\n",
       "    </tr>\n",
       "    <tr>\n",
       "      <th>2016-09-06</th>\n",
       "      <td>1.009088</td>\n",
       "      <td>1.021001</td>\n",
       "      <td>1.005077</td>\n",
       "      <td>1.000347</td>\n",
       "    </tr>\n",
       "    <tr>\n",
       "      <th>2016-09-07</th>\n",
       "      <td>1.015272</td>\n",
       "      <td>1.020963</td>\n",
       "      <td>1.013163</td>\n",
       "      <td>1.001215</td>\n",
       "    </tr>\n",
       "    <tr>\n",
       "      <th>2016-09-08</th>\n",
       "      <td>0.988663</td>\n",
       "      <td>1.014455</td>\n",
       "      <td>0.996615</td>\n",
       "      <td>0.997222</td>\n",
       "    </tr>\n",
       "  </tbody>\n",
       "</table>\n",
       "</div>"
      ],
      "text/plain": [
       "                AAPL      GOOG       IBM      MSFT\n",
       "Date                                              \n",
       "2016-09-01  1.000000  1.000000  1.000000  1.000000\n",
       "2016-09-02  1.009369  1.006912  1.000063  1.001389\n",
       "2016-09-06  1.009088  1.021001  1.005077  1.000347\n",
       "2016-09-07  1.015272  1.020963  1.013163  1.001215\n",
       "2016-09-08  0.988663  1.014455  0.996615  0.997222"
      ]
     },
     "execution_count": 28,
     "metadata": {},
     "output_type": "execute_result"
    }
   ],
   "source": [
    "# df.apply(arg) will apply the function arg to each column in df, and return a DataFrame with the result\n",
    "# Recall that lambda x is an anonymous function accepting parameter x; in this case, x will be a pandas Series object\n",
    "stock_return = stocks.apply(lambda x: x / x[0])\n",
    "stock_return.head()"
   ]
  },
  {
   "cell_type": "code",
   "execution_count": 29,
   "metadata": {},
   "outputs": [
    {
     "data": {
      "text/plain": [
       "<matplotlib.lines.Line2D at 0x8fde0b8>"
      ]
     },
     "execution_count": 29,
     "metadata": {},
     "output_type": "execute_result"
    },
    {
     "data": {
      "image/png": "[encoded data removed]",
      "text/plain": [
       "<matplotlib.figure.Figure at 0x89f4668>"
      ]
     },
     "metadata": {},
     "output_type": "display_data"
    }
   ],
   "source": [
    "stock_return.plot(grid = True).axhline(y = 1, color = \"black\", lw = 2)"
   ]
  },
  {
   "cell_type": "code",
   "execution_count": 58,
   "metadata": {},
   "outputs": [
    {
     "data": {
      "text/html": [
       "<div>\n",
       "<style scoped>\n",
       "    .dataframe tbody tr th:only-of-type {\n",
       "        vertical-align: middle;\n",
       "    }\n",
       "\n",
       "    .dataframe tbody tr th {\n",
       "        vertical-align: top;\n",
       "    }\n",
       "\n",
       "    .dataframe thead th {\n",
       "        text-align: right;\n",
       "    }\n",
       "</style>\n",
       "<table border=\"1\" class=\"dataframe\">\n",
       "  <thead>\n",
       "    <tr style=\"text-align: right;\">\n",
       "      <th></th>\n",
       "      <th>AAPL</th>\n",
       "      <th>GOOG</th>\n",
       "      <th>IBM</th>\n",
       "      <th>MSFT</th>\n",
       "    </tr>\n",
       "    <tr>\n",
       "      <th>Date</th>\n",
       "      <th></th>\n",
       "      <th></th>\n",
       "      <th></th>\n",
       "      <th></th>\n",
       "    </tr>\n",
       "  </thead>\n",
       "  <tbody>\n",
       "    <tr>\n",
       "      <th>2016-09-01</th>\n",
       "      <td>NaN</td>\n",
       "      <td>NaN</td>\n",
       "      <td>NaN</td>\n",
       "      <td>NaN</td>\n",
       "    </tr>\n",
       "    <tr>\n",
       "      <th>2016-09-02</th>\n",
       "      <td>0.009326</td>\n",
       "      <td>0.006888</td>\n",
       "      <td>0.000063</td>\n",
       "      <td>0.001388</td>\n",
       "    </tr>\n",
       "    <tr>\n",
       "      <th>2016-09-06</th>\n",
       "      <td>-0.000279</td>\n",
       "      <td>0.013895</td>\n",
       "      <td>0.005002</td>\n",
       "      <td>-0.001041</td>\n",
       "    </tr>\n",
       "    <tr>\n",
       "      <th>2016-09-07</th>\n",
       "      <td>0.006109</td>\n",
       "      <td>-0.000037</td>\n",
       "      <td>0.008013</td>\n",
       "      <td>0.000868</td>\n",
       "    </tr>\n",
       "    <tr>\n",
       "      <th>2016-09-08</th>\n",
       "      <td>-0.026559</td>\n",
       "      <td>-0.006394</td>\n",
       "      <td>-0.016467</td>\n",
       "      <td>-0.003997</td>\n",
       "    </tr>\n",
       "  </tbody>\n",
       "</table>\n",
       "</div>"
      ],
      "text/plain": [
       "                AAPL      GOOG       IBM      MSFT\n",
       "Date                                              \n",
       "2016-09-01       NaN       NaN       NaN       NaN\n",
       "2016-09-02  0.009326  0.006888  0.000063  0.001388\n",
       "2016-09-06 -0.000279  0.013895  0.005002 -0.001041\n",
       "2016-09-07  0.006109 -0.000037  0.008013  0.000868\n",
       "2016-09-08 -0.026559 -0.006394 -0.016467 -0.003997"
      ]
     },
     "execution_count": 58,
     "metadata": {},
     "output_type": "execute_result"
    }
   ],
   "source": [
    "# Let's use NumPy's log function, though math's log function would work just as well\n",
    "import numpy as np\n",
    " \n",
    "stock_change = stocks.apply(lambda x: np.log(x) - np.log(x.shift(1))) # shift moves dates back by 1.\n",
    "stock_change.head()"
   ]
  },
  {
   "cell_type": "code",
   "execution_count": 31,
   "metadata": {},
   "outputs": [
    {
     "data": {
      "text/plain": [
       "<matplotlib.lines.Line2D at 0x8d52048>"
      ]
     },
     "execution_count": 31,
     "metadata": {},
     "output_type": "execute_result"
    },
    {
     "data": {
      "image/png": "[encoded data removed]",
      "text/plain": [
       "<matplotlib.figure.Figure at 0x8d9d1d0>"
      ]
     },
     "metadata": {},
     "output_type": "display_data"
    }
   ],
   "source": [
    "stock_change.plot(grid = True).axhline(y = 0, color = \"black\", lw = 2)"
   ]
  },
  {
   "cell_type": "code",
   "execution_count": 59,
   "metadata": {},
   "outputs": [],
   "source": [
    " #What is the max Close price for each bank's stock throughout the time period?"
   ]
  },
  {
   "cell_type": "code",
   "execution_count": null,
   "metadata": {
    "collapsed": true
   },
   "outputs": [],
   "source": [
    "What is the max Close price for each bank's stock throughout the time period"
   ]
  },
  {
   "cell_type": "code",
   "execution_count": 61,
   "metadata": {},
   "outputs": [
    {
     "data": {
      "text/plain": [
       "AAPL   Close    156.10\n",
       "GOOGL  Close    996.17\n",
       "MSFT   Close     70.41\n",
       "IBM    Close    181.95\n",
       "dtype: float64"
      ]
     },
     "execution_count": 61,
     "metadata": {},
     "output_type": "execute_result"
    }
   ],
   "source": [
    "tech_stocks.loc[:, pd.IndexSlice[:, 'Close']].max()\n",
    "#tech_stocks.loc[:,]"
   ]
  },
  {
   "cell_type": "code",
   "execution_count": 62,
   "metadata": {},
   "outputs": [],
   "source": [
    "#Calculate the returns for the stocks\n",
    "#returns=(Today’s close price - Yesterday’s close price)/ Yesterday’s close price\n",
    "\n",
    "#We can use pandas pct_change() method"
   ]
  },
  {
   "cell_type": "code",
   "execution_count": 30,
   "metadata": {
    "collapsed": true
   },
   "outputs": [],
   "source": [
    "returns = pd.DataFrame()\n",
    "\n",
    "for i in ticker:\n",
    "    returns[i + ' Return'] = tech_stocks.xs((i, 'Close'), axis=1).pct_change()\n",
    "\n",
    "returns.dropna(inplace=True)"
   ]
  },
  {
   "cell_type": "code",
   "execution_count": 31,
   "metadata": {},
   "outputs": [
    {
     "data": {
      "text/html": [
       "<div>\n",
       "<style scoped>\n",
       "    .dataframe tbody tr th:only-of-type {\n",
       "        vertical-align: middle;\n",
       "    }\n",
       "\n",
       "    .dataframe tbody tr th {\n",
       "        vertical-align: top;\n",
       "    }\n",
       "\n",
       "    .dataframe thead th {\n",
       "        text-align: right;\n",
       "    }\n",
       "</style>\n",
       "<table border=\"1\" class=\"dataframe\">\n",
       "  <thead>\n",
       "    <tr style=\"text-align: right;\">\n",
       "      <th></th>\n",
       "      <th>AAPL Return</th>\n",
       "      <th>GOOGL Return</th>\n",
       "      <th>MSFT Return</th>\n",
       "      <th>IBM Return</th>\n",
       "    </tr>\n",
       "    <tr>\n",
       "      <th>Date</th>\n",
       "      <th></th>\n",
       "      <th></th>\n",
       "      <th></th>\n",
       "      <th></th>\n",
       "    </tr>\n",
       "  </thead>\n",
       "  <tbody>\n",
       "    <tr>\n",
       "      <th>2016-09-02</th>\n",
       "      <td>0.009369</td>\n",
       "      <td>0.006912</td>\n",
       "      <td>0.001389</td>\n",
       "      <td>0.000063</td>\n",
       "    </tr>\n",
       "    <tr>\n",
       "      <th>2016-09-06</th>\n",
       "      <td>-0.000278</td>\n",
       "      <td>0.013992</td>\n",
       "      <td>-0.001040</td>\n",
       "      <td>0.005014</td>\n",
       "    </tr>\n",
       "    <tr>\n",
       "      <th>2016-09-07</th>\n",
       "      <td>0.006128</td>\n",
       "      <td>-0.000037</td>\n",
       "      <td>0.000868</td>\n",
       "      <td>0.008045</td>\n",
       "    </tr>\n",
       "    <tr>\n",
       "      <th>2016-09-08</th>\n",
       "      <td>-0.026209</td>\n",
       "      <td>-0.006374</td>\n",
       "      <td>-0.003989</td>\n",
       "      <td>-0.016333</td>\n",
       "    </tr>\n",
       "    <tr>\n",
       "      <th>2016-09-09</th>\n",
       "      <td>-0.022650</td>\n",
       "      <td>-0.017887</td>\n",
       "      <td>-0.021243</td>\n",
       "      <td>-0.020818</td>\n",
       "    </tr>\n",
       "  </tbody>\n",
       "</table>\n",
       "</div>"
      ],
      "text/plain": [
       "            AAPL Return  GOOGL Return  MSFT Return  IBM Return\n",
       "Date                                                          \n",
       "2016-09-02     0.009369      0.006912     0.001389    0.000063\n",
       "2016-09-06    -0.000278      0.013992    -0.001040    0.005014\n",
       "2016-09-07     0.006128     -0.000037     0.000868    0.008045\n",
       "2016-09-08    -0.026209     -0.006374    -0.003989   -0.016333\n",
       "2016-09-09    -0.022650     -0.017887    -0.021243   -0.020818"
      ]
     },
     "execution_count": 31,
     "metadata": {},
     "output_type": "execute_result"
    }
   ],
   "source": [
    "returns.head()"
   ]
  },
  {
   "cell_type": "code",
   "execution_count": null,
   "metadata": {
    "collapsed": true
   },
   "outputs": [],
   "source": [
    "Create a pairplot using seaborn of the returns dataframe."
   ]
  },
  {
   "cell_type": "code",
   "execution_count": 33,
   "metadata": {},
   "outputs": [
    {
     "data": {
      "text/plain": [
       "<seaborn.axisgrid.PairGrid at 0xae48518>"
      ]
     },
     "execution_count": 33,
     "metadata": {},
     "output_type": "execute_result"
    },
    {
     "data": {
      "image/png": "[encoded data removed]",
      "text/plain": [
       "<matplotlib.figure.Figure at 0xba895f8>"
      ]
     },
     "metadata": {},
     "output_type": "display_data"
    }
   ],
   "source": [
    "import seaborn as sns\n",
    "sns.pairplot(returns)"
   ]
  },
  {
   "cell_type": "code",
   "execution_count": null,
   "metadata": {
    "collapsed": true
   },
   "outputs": [],
   "source": [
    "Histogram of returns"
   ]
  },
  {
   "cell_type": "code",
   "execution_count": 34,
   "metadata": {},
   "outputs": [
    {
     "name": "stderr",
     "output_type": "stream",
     "text": [
      "C:\\Users\\tejks\\AppData\\Local\\Continuum\\Anaconda3\\lib\\site-packages\\statsmodels\\nonparametric\\kdetools.py:20: VisibleDeprecationWarning: using a non-integer number instead of an integer will result in an error in the future\n",
      "  y = X[:m/2+1] + np.r_[0,X[m/2+1:],0]*1j\n"
     ]
    },
    {
     "data": {
      "text/plain": [
       "<matplotlib.axes._subplots.AxesSubplot at 0xd00bf60>"
      ]
     },
     "execution_count": 34,
     "metadata": {},
     "output_type": "execute_result"
    },
    {
     "data": {
      "image/png": "[encoded data removed]",
      "text/plain": [
       "<matplotlib.figure.Figure at 0xd571748>"
      ]
     },
     "metadata": {},
     "output_type": "display_data"
    }
   ],
   "source": [
    "sns.set(rc={\"figure.figsize\": (4, 4)});\n",
    "sns.distplot(returns['AAPL Return'], hist = False, color= 'g', label='Apple')\n",
    "sns.distplot(returns['GOOGL Return'], hist = False, color='b', label='Google')\n",
    "sns.distplot(returns['IBM Return'], hist = False, color='r', label='IBM')\n",
    "sns.distplot(returns['MSFT Return'], hist = False, color='y', label='MSFT')"
   ]
  },
  {
   "cell_type": "code",
   "execution_count": null,
   "metadata": {
    "collapsed": true
   },
   "outputs": [],
   "source": [
    "Find out the day the worst returns occured. Notice that two companies have that on the same day.Why?¶"
   ]
  },
  {
   "cell_type": "code",
   "execution_count": 35,
   "metadata": {},
   "outputs": [
    {
     "data": {
      "text/plain": [
       "AAPL Return    2017-05-17\n",
       "GOOGL Return   2016-11-10\n",
       "MSFT Return    2017-05-17\n",
       "IBM Return     2017-04-19\n",
       "dtype: datetime64[ns]"
      ]
     },
     "execution_count": 35,
     "metadata": {},
     "output_type": "execute_result"
    }
   ],
   "source": [
    "returns.idxmin()"
   ]
  },
  {
   "cell_type": "code",
   "execution_count": 36,
   "metadata": {},
   "outputs": [
    {
     "data": {
      "text/plain": [
       "AAPL Return    2017-02-01\n",
       "GOOGL Return   2017-04-28\n",
       "MSFT Return    2016-10-21\n",
       "IBM Return     2016-11-10\n",
       "dtype: datetime64[ns]"
      ]
     },
     "execution_count": 36,
     "metadata": {},
     "output_type": "execute_result"
    }
   ],
   "source": [
    "# Best Single Day Gain\n",
    "returns.idxmax()"
   ]
  },
  {
   "cell_type": "code",
   "execution_count": null,
   "metadata": {
    "collapsed": true
   },
   "outputs": [],
   "source": [
    "Take a look at the standard deviation of the returns, which stock would you classify as the riskiest over the entire time period?"
   ]
  },
  {
   "cell_type": "code",
   "execution_count": 37,
   "metadata": {},
   "outputs": [
    {
     "data": {
      "text/plain": [
       "AAPL Return     0.010756\n",
       "GOOGL Return    0.009673\n",
       "MSFT Return     0.009170\n",
       "IBM Return      0.009593\n",
       "dtype: float64"
      ]
     },
     "execution_count": 37,
     "metadata": {},
     "output_type": "execute_result"
    }
   ],
   "source": [
    "returns.std()"
   ]
  },
  {
   "cell_type": "code",
   "execution_count": null,
   "metadata": {
    "collapsed": true
   },
   "outputs": [],
   "source": [
    "Which would you classify as the riskiest for the year 2017?"
   ]
  },
  {
   "cell_type": "code",
   "execution_count": 38,
   "metadata": {},
   "outputs": [
    {
     "data": {
      "text/plain": [
       "'AAPL Return'"
      ]
     },
     "execution_count": 38,
     "metadata": {},
     "output_type": "execute_result"
    }
   ],
   "source": [
    "returns.loc['2017-01-01':'2018-01-20'].std().idxmax()"
   ]
  },
  {
   "cell_type": "code",
   "execution_count": null,
   "metadata": {
    "collapsed": true
   },
   "outputs": [],
   "source": [
    "Create a line plot showing Close price for each bank for the entire index of time."
   ]
  },
  {
   "cell_type": "code",
   "execution_count": 39,
   "metadata": {},
   "outputs": [
    {
     "data": {
      "text/plain": [
       "<matplotlib.axes._subplots.AxesSubplot at 0xd45ada0>"
      ]
     },
     "execution_count": 39,
     "metadata": {},
     "output_type": "execute_result"
    },
    {
     "data": {
      "image/png": "[encoded data removed]",
      "text/plain": [
       "<matplotlib.figure.Figure at 0xd577ac8>"
      ]
     },
     "metadata": {},
     "output_type": "display_data"
    }
   ],
   "source": [
    "tech_stocks.xs('Close', level=1, axis=1).plot(figsize=(10,4))"
   ]
  },
  {
   "cell_type": "code",
   "execution_count": null,
   "metadata": {
    "collapsed": true
   },
   "outputs": [],
   "source": [
    "Plot the rolling 30 day average against the Close Price for IBM's stock for the year 2017"
   ]
  },
  {
   "cell_type": "code",
   "execution_count": 40,
   "metadata": {},
   "outputs": [
    {
     "data": {
      "text/plain": [
       "<matplotlib.legend.Legend at 0xd2f9208>"
      ]
     },
     "execution_count": 40,
     "metadata": {},
     "output_type": "execute_result"
    },
    {
     "data": {
      "image/png": "[encoded data removed]",
      "text/plain": [
       "<matplotlib.figure.Figure at 0xbeb6b00>"
      ]
     },
     "metadata": {},
     "output_type": "display_data"
    }
   ],
   "source": [
    "IBM_2008 = tech_stocks.loc['2017-01-01':'2017-12-31']['IBM']\n",
    "plt.figure(figsize=(10,4))\n",
    "IBM_2008['Close'].plot(label='no average')\n",
    "IBM_2008.rolling(window=30).mean()['Close'].plot(label='average')\n",
    "plt.legend()"
   ]
  },
  {
   "cell_type": "code",
   "execution_count": null,
   "metadata": {
    "collapsed": true
   },
   "outputs": [],
   "source": [
    "Create a heatmap of the correlation between the stocks Close Price"
   ]
  },
  {
   "cell_type": "code",
   "execution_count": 42,
   "metadata": {},
   "outputs": [
    {
     "data": {
      "text/html": [
       "<div>\n",
       "<style scoped>\n",
       "    .dataframe tbody tr th:only-of-type {\n",
       "        vertical-align: middle;\n",
       "    }\n",
       "\n",
       "    .dataframe tbody tr th {\n",
       "        vertical-align: top;\n",
       "    }\n",
       "\n",
       "    .dataframe thead th {\n",
       "        text-align: right;\n",
       "    }\n",
       "</style>\n",
       "<table border=\"1\" class=\"dataframe\">\n",
       "  <thead>\n",
       "    <tr style=\"text-align: right;\">\n",
       "      <th></th>\n",
       "      <th>AAPL</th>\n",
       "      <th>GOOGL</th>\n",
       "      <th>MSFT</th>\n",
       "      <th>IBM</th>\n",
       "    </tr>\n",
       "  </thead>\n",
       "  <tbody>\n",
       "    <tr>\n",
       "      <th>AAPL</th>\n",
       "      <td>1.000000</td>\n",
       "      <td>0.875538</td>\n",
       "      <td>0.894510</td>\n",
       "      <td>0.226468</td>\n",
       "    </tr>\n",
       "    <tr>\n",
       "      <th>GOOGL</th>\n",
       "      <td>0.875538</td>\n",
       "      <td>1.000000</td>\n",
       "      <td>0.837416</td>\n",
       "      <td>-0.102365</td>\n",
       "    </tr>\n",
       "    <tr>\n",
       "      <th>MSFT</th>\n",
       "      <td>0.894510</td>\n",
       "      <td>0.837416</td>\n",
       "      <td>1.000000</td>\n",
       "      <td>0.289308</td>\n",
       "    </tr>\n",
       "    <tr>\n",
       "      <th>IBM</th>\n",
       "      <td>0.226468</td>\n",
       "      <td>-0.102365</td>\n",
       "      <td>0.289308</td>\n",
       "      <td>1.000000</td>\n",
       "    </tr>\n",
       "  </tbody>\n",
       "</table>\n",
       "</div>"
      ],
      "text/plain": [
       "           AAPL     GOOGL      MSFT       IBM\n",
       "AAPL   1.000000  0.875538  0.894510  0.226468\n",
       "GOOGL  0.875538  1.000000  0.837416 -0.102365\n",
       "MSFT   0.894510  0.837416  1.000000  0.289308\n",
       "IBM    0.226468 -0.102365  0.289308  1.000000"
      ]
     },
     "execution_count": 42,
     "metadata": {},
     "output_type": "execute_result"
    }
   ],
   "source": [
    "tech_close = tech_stocks.xs('Close', level=1, axis=1)\n",
    "\n",
    "tech_close_corr = tech_close.corr()\n",
    "tech_close_corr"
   ]
  },
  {
   "cell_type": "code",
   "execution_count": 43,
   "metadata": {},
   "outputs": [
    {
     "data": {
      "text/plain": [
       "<matplotlib.axes._subplots.AxesSubplot at 0xda7cba8>"
      ]
     },
     "execution_count": 43,
     "metadata": {},
     "output_type": "execute_result"
    },
    {
     "data": {
      "image/png": "[encoded data removed]",
      "text/plain": [
       "<matplotlib.figure.Figure at 0xd57de48>"
      ]
     },
     "metadata": {},
     "output_type": "display_data"
    }
   ],
   "source": [
    "sns.heatmap(tech_close_corr, annot = True, cmap='coolwarm')"
   ]
  },
  {
   "cell_type": "code",
   "execution_count": 44,
   "metadata": {},
   "outputs": [
    {
     "data": {
      "text/plain": [
       "<seaborn.matrix.ClusterGrid at 0xda81390>"
      ]
     },
     "execution_count": 44,
     "metadata": {},
     "output_type": "execute_result"
    },
    {
     "data": {
      "image/png": "[encoded data removed]",
      "text/plain": [
       "<matplotlib.figure.Figure at 0xdb099b0>"
      ]
     },
     "metadata": {},
     "output_type": "display_data"
    }
   ],
   "source": [
    "sns.clustermap(tech_close_corr, annot = True, cmap='coolwarm')"
   ]
  },
  {
   "cell_type": "code",
   "execution_count": null,
   "metadata": {
    "collapsed": true
   },
   "outputs": [],
   "source": []
  }
 ],
 "metadata": {
  "celltoolbar": "Slideshow",
  "kernelspec": {
   "display_name": "Python 3",
   "language": "python",
   "name": "python3"
  },
  "language_info": {
   "codemirror_mode": {
    "name": "ipython",
    "version": 3
   },
   "file_extension": ".py",
   "mimetype": "text/x-python",
   "name": "python",
   "nbconvert_exporter": "python",
   "pygments_lexer": "ipython3",
   "version": "3.6.6"
  }
 },
 "nbformat": 4,
 "nbformat_minor": 1
}
